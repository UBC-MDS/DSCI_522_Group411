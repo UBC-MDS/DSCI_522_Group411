{
 "cells": [
  {
   "cell_type": "code",
   "execution_count": 3,
   "metadata": {},
   "outputs": [
    {
     "data": {
      "text/plain": [
       "RendererRegistry.enable('notebook')"
      ]
     },
     "execution_count": 3,
     "metadata": {},
     "output_type": "execute_result"
    }
   ],
   "source": [
    "import pandas as pd  \n",
    "import numpy as np\n",
    "from sklearn.ensemble import RandomForestRegressor\n",
    "from sklearn.preprocessing import OneHotEncoder, StandardScaler\n",
    "from sklearn.compose import ColumnTransformer\n",
    "from sklearn.model_selection import RandomizedSearchCV, cross_val_score, GridSearchCV\n",
    "import altair as alt\n",
    "from sklearn.linear_model import LinearRegression, Lasso, Ridge\n",
    "from sklearn.model_selection import train_test_split\n",
    "from pyarrow import feather\n",
    "\n",
    "import os.path\n",
    "from os import path\n",
    "alt.renderers.enable('notebook')"
   ]
  },
  {
   "cell_type": "code",
   "execution_count": 4,
   "metadata": {},
   "outputs": [],
   "source": [
    "assert path.exists(\"../data/train.feather\") == True, \"Input file does not exist\""
   ]
  },
  {
   "cell_type": "code",
   "execution_count": 5,
   "metadata": {},
   "outputs": [
    {
     "data": {
      "text/html": [
       "<div>\n",
       "<style scoped>\n",
       "    .dataframe tbody tr th:only-of-type {\n",
       "        vertical-align: middle;\n",
       "    }\n",
       "\n",
       "    .dataframe tbody tr th {\n",
       "        vertical-align: top;\n",
       "    }\n",
       "\n",
       "    .dataframe thead th {\n",
       "        text-align: right;\n",
       "    }\n",
       "</style>\n",
       "<table border=\"1\" class=\"dataframe\">\n",
       "  <thead>\n",
       "    <tr style=\"text-align: right;\">\n",
       "      <th></th>\n",
       "      <th>ix</th>\n",
       "      <th>date</th>\n",
       "      <th>average_price</th>\n",
       "      <th>total_volume</th>\n",
       "      <th>PLU_4046</th>\n",
       "      <th>PLU_4225</th>\n",
       "      <th>PLU_4770</th>\n",
       "      <th>total_bags</th>\n",
       "      <th>small_bags</th>\n",
       "      <th>large_bags</th>\n",
       "      <th>xlarge_bags</th>\n",
       "      <th>type</th>\n",
       "      <th>year</th>\n",
       "      <th>region</th>\n",
       "      <th>month</th>\n",
       "      <th>year_month</th>\n",
       "      <th>lat</th>\n",
       "      <th>lon</th>\n",
       "      <th>season</th>\n",
       "    </tr>\n",
       "  </thead>\n",
       "  <tbody>\n",
       "    <tr>\n",
       "      <td>0</td>\n",
       "      <td>0.0</td>\n",
       "      <td>2015-12-27</td>\n",
       "      <td>1.33</td>\n",
       "      <td>64236.62</td>\n",
       "      <td>1036.74</td>\n",
       "      <td>54454.85</td>\n",
       "      <td>48.16</td>\n",
       "      <td>8696.87</td>\n",
       "      <td>8603.62</td>\n",
       "      <td>93.25</td>\n",
       "      <td>0.0</td>\n",
       "      <td>conventional</td>\n",
       "      <td>2015.0</td>\n",
       "      <td>Albany</td>\n",
       "      <td>Dec</td>\n",
       "      <td>2015-12</td>\n",
       "      <td>42.65258</td>\n",
       "      <td>-73.756233</td>\n",
       "      <td>Winter</td>\n",
       "    </tr>\n",
       "    <tr>\n",
       "      <td>1</td>\n",
       "      <td>1.0</td>\n",
       "      <td>2015-12-20</td>\n",
       "      <td>1.35</td>\n",
       "      <td>54876.98</td>\n",
       "      <td>674.28</td>\n",
       "      <td>44638.81</td>\n",
       "      <td>58.33</td>\n",
       "      <td>9505.56</td>\n",
       "      <td>9408.07</td>\n",
       "      <td>97.49</td>\n",
       "      <td>0.0</td>\n",
       "      <td>conventional</td>\n",
       "      <td>2015.0</td>\n",
       "      <td>Albany</td>\n",
       "      <td>Dec</td>\n",
       "      <td>2015-12</td>\n",
       "      <td>42.65258</td>\n",
       "      <td>-73.756233</td>\n",
       "      <td>Winter</td>\n",
       "    </tr>\n",
       "    <tr>\n",
       "      <td>2</td>\n",
       "      <td>2.0</td>\n",
       "      <td>2015-12-13</td>\n",
       "      <td>0.93</td>\n",
       "      <td>118220.22</td>\n",
       "      <td>794.70</td>\n",
       "      <td>109149.67</td>\n",
       "      <td>130.50</td>\n",
       "      <td>8145.35</td>\n",
       "      <td>8042.21</td>\n",
       "      <td>103.14</td>\n",
       "      <td>0.0</td>\n",
       "      <td>conventional</td>\n",
       "      <td>2015.0</td>\n",
       "      <td>Albany</td>\n",
       "      <td>Dec</td>\n",
       "      <td>2015-12</td>\n",
       "      <td>42.65258</td>\n",
       "      <td>-73.756233</td>\n",
       "      <td>Winter</td>\n",
       "    </tr>\n",
       "    <tr>\n",
       "      <td>3</td>\n",
       "      <td>3.0</td>\n",
       "      <td>2015-12-06</td>\n",
       "      <td>1.08</td>\n",
       "      <td>78992.15</td>\n",
       "      <td>1132.00</td>\n",
       "      <td>71976.41</td>\n",
       "      <td>72.58</td>\n",
       "      <td>5811.16</td>\n",
       "      <td>5677.40</td>\n",
       "      <td>133.76</td>\n",
       "      <td>0.0</td>\n",
       "      <td>conventional</td>\n",
       "      <td>2015.0</td>\n",
       "      <td>Albany</td>\n",
       "      <td>Dec</td>\n",
       "      <td>2015-12</td>\n",
       "      <td>42.65258</td>\n",
       "      <td>-73.756233</td>\n",
       "      <td>Winter</td>\n",
       "    </tr>\n",
       "    <tr>\n",
       "      <td>4</td>\n",
       "      <td>4.0</td>\n",
       "      <td>2015-11-29</td>\n",
       "      <td>1.28</td>\n",
       "      <td>51039.60</td>\n",
       "      <td>941.48</td>\n",
       "      <td>43838.39</td>\n",
       "      <td>75.78</td>\n",
       "      <td>6183.95</td>\n",
       "      <td>5986.26</td>\n",
       "      <td>197.69</td>\n",
       "      <td>0.0</td>\n",
       "      <td>conventional</td>\n",
       "      <td>2015.0</td>\n",
       "      <td>Albany</td>\n",
       "      <td>Nov</td>\n",
       "      <td>2015-11</td>\n",
       "      <td>42.65258</td>\n",
       "      <td>-73.756233</td>\n",
       "      <td>Fall</td>\n",
       "    </tr>\n",
       "  </tbody>\n",
       "</table>\n",
       "</div>"
      ],
      "text/plain": [
       "    ix        date  average_price  total_volume  PLU_4046   PLU_4225  \\\n",
       "0  0.0  2015-12-27           1.33      64236.62   1036.74   54454.85   \n",
       "1  1.0  2015-12-20           1.35      54876.98    674.28   44638.81   \n",
       "2  2.0  2015-12-13           0.93     118220.22    794.70  109149.67   \n",
       "3  3.0  2015-12-06           1.08      78992.15   1132.00   71976.41   \n",
       "4  4.0  2015-11-29           1.28      51039.60    941.48   43838.39   \n",
       "\n",
       "   PLU_4770  total_bags  small_bags  large_bags  xlarge_bags          type  \\\n",
       "0     48.16     8696.87     8603.62       93.25          0.0  conventional   \n",
       "1     58.33     9505.56     9408.07       97.49          0.0  conventional   \n",
       "2    130.50     8145.35     8042.21      103.14          0.0  conventional   \n",
       "3     72.58     5811.16     5677.40      133.76          0.0  conventional   \n",
       "4     75.78     6183.95     5986.26      197.69          0.0  conventional   \n",
       "\n",
       "     year  region month year_month       lat        lon  season  \n",
       "0  2015.0  Albany   Dec    2015-12  42.65258 -73.756233  Winter  \n",
       "1  2015.0  Albany   Dec    2015-12  42.65258 -73.756233  Winter  \n",
       "2  2015.0  Albany   Dec    2015-12  42.65258 -73.756233  Winter  \n",
       "3  2015.0  Albany   Dec    2015-12  42.65258 -73.756233  Winter  \n",
       "4  2015.0  Albany   Nov    2015-11  42.65258 -73.756233    Fall  "
      ]
     },
     "execution_count": 5,
     "metadata": {},
     "output_type": "execute_result"
    }
   ],
   "source": [
    "# load in feather datasets \n",
    "# training dataset\n",
    "avocado = pd.read_feather(\"../data/train.feather\")\n",
    "avocado.head()\n",
    "# test dataset\n",
    "# avocado_test = pd.read_feather(\"test.feather\")\n",
    "# avocado_test.head()"
   ]
  },
  {
   "cell_type": "code",
   "execution_count": 3,
   "metadata": {},
   "outputs": [
    {
     "data": {
      "text/plain": [
       "Index(['X1', 'date', 'average_price', 'total_volume', 'PLU_4046', 'PLU_4225',\n",
       "       'PLU_4770', 'total_bags', 'small_bags', 'large_bags', 'xlarge_bags',\n",
       "       'type', 'year', 'region', 'month', 'year_month', 'lat', 'lon',\n",
       "       'season'],\n",
       "      dtype='object')"
      ]
     },
     "execution_count": 3,
     "metadata": {},
     "output_type": "execute_result"
    }
   ],
   "source": [
    "# Which features do we want to keep?\n",
    "avocado.columns\n",
    "# want season, lat, lon, and type as our features"
   ]
  },
  {
   "cell_type": "code",
   "execution_count": 6,
   "metadata": {},
   "outputs": [],
   "source": [
    "# Split the data into target and features\n",
    "avocado_x = avocado[['lat', 'lon', 'type', 'season']]\n",
    "avocado_y = avocado['average_price']\n",
    "\n",
    "# avocado_test_x = avocado_test[['region', 'type', 'month']]\n",
    "# avocado_test_y = avocado['AveragePrice']\n",
    "\n",
    "# Scale the numerical features (don't need for rfr, but can't hurt)\n",
    "numeric_features = ['lat', 'lon']\n",
    "\n",
    "# need to convert categorical to numerical using one-hot-encoding\n",
    "categorical_features = ['type', 'season']\n",
    "\n",
    "preprocessor = ColumnTransformer(transformers=[\n",
    "    ('scaler', StandardScaler(), numeric_features),\n",
    "    ('ohe', OneHotEncoder(), categorical_features)\n",
    "])\n",
    "\n",
    "# applying one hot encoding to the training features\n",
    "avocado_x = pd.DataFrame(preprocessor.fit_transform(avocado_x),\n",
    "                         index=avocado_x.index,\n",
    "                         columns = (numeric_features +\n",
    "                                   list(preprocessor.named_transformers_['ohe']\n",
    "                                       .get_feature_names(categorical_features))))\n",
    "\n",
    "# apply the same transformation to the test features (but don't fit!)\n",
    "\n",
    "# avocado_test_x = pd.DataFrame(preprocessor.transform(avocado_test_x),\n",
    "#                              index=avocado_test_x.index,\n",
    "#                              columns=avocado_x.columns)"
   ]
  },
  {
   "cell_type": "code",
   "execution_count": 7,
   "metadata": {},
   "outputs": [],
   "source": [
    "assert len(avocado_x.columns) == 8"
   ]
  },
  {
   "cell_type": "code",
   "execution_count": 8,
   "metadata": {},
   "outputs": [
    {
     "data": {
      "text/plain": [
       "RandomForestRegressor(bootstrap=True, ccp_alpha=0.0, criterion='mse',\n",
       "                      max_depth=None, max_features='auto', max_leaf_nodes=None,\n",
       "                      max_samples=None, min_impurity_decrease=0.0,\n",
       "                      min_impurity_split=None, min_samples_leaf=1,\n",
       "                      min_samples_split=2, min_weight_fraction_leaf=0.0,\n",
       "                      n_estimators=100, n_jobs=None, oob_score=False,\n",
       "                      random_state=123, verbose=0, warm_start=False)"
      ]
     },
     "execution_count": 8,
     "metadata": {},
     "output_type": "execute_result"
    }
   ],
   "source": [
    "# fit rfr model\n",
    "rfr = RandomForestRegressor(random_state=123)\n",
    "rfr.fit(avocado_x, avocado_y)"
   ]
  },
  {
   "cell_type": "code",
   "execution_count": 9,
   "metadata": {},
   "outputs": [
    {
     "name": "stdout",
     "output_type": "stream",
     "text": [
      "[-0.71236607  0.17668574  0.52865414 -0.05899086  0.1797582 ]\n",
      "0.022748230814118343\n",
      "0.41264124553151404\n"
     ]
    }
   ],
   "source": [
    "fold_accuracies = cross_val_score(estimator=rfr, X=avocado_x, y=avocado_y, cv=5)\n",
    "print(fold_accuracies)\n",
    "print(np.mean(fold_accuracies))\n",
    "print(np.std(fold_accuracies))\n",
    "# the standard deviation is much greater than the mean accuracy, \n",
    "# this is probably not a good model..."
   ]
  },
  {
   "cell_type": "code",
   "execution_count": 10,
   "metadata": {},
   "outputs": [
    {
     "data": {
      "text/plain": [
       "{'n_estimators': 46, 'max_depth': 10}"
      ]
     },
     "execution_count": 10,
     "metadata": {},
     "output_type": "execute_result"
    }
   ],
   "source": [
    "# find optimal hyperparameters\n",
    "\n",
    "rfr_parameters = {'max_depth': range(1, 20),\n",
    "                  'n_estimators': range(1, 100)}\n",
    "\n",
    "random_rfr = RandomizedSearchCV(rfr, rfr_parameters, n_iter=10,\n",
    "             cv=5)\n",
    "\n",
    "random_rfr.fit(avocado_x, avocado_y).best_params_"
   ]
  },
  {
   "cell_type": "code",
   "execution_count": 11,
   "metadata": {},
   "outputs": [],
   "source": [
    "fold_accuracies = cross_val_score(estimator=random_rfr, X=avocado_x, y=avocado_y, cv=5)\n",
    "cv_scores = pd.DataFrame({'Fold': [1, 2, 3, 4, 5],\n",
    "                  'Negative_Mean_Squared_Error': fold_accuracies})\n",
    "#for i in range(5):\n",
    "#    cv_scores_dict('Fold')[i] = \n",
    "\n",
    "#print(fold_accuracies)\n",
    "#print(np.mean(fold_accuracies))\n",
    "#print(np.std(fold_accuracies))\n",
    "# The standard error is much more reasonable here"
   ]
  },
  {
   "cell_type": "code",
   "execution_count": 12,
   "metadata": {},
   "outputs": [
    {
     "data": {
      "text/html": [
       "<div>\n",
       "<style scoped>\n",
       "    .dataframe tbody tr th:only-of-type {\n",
       "        vertical-align: middle;\n",
       "    }\n",
       "\n",
       "    .dataframe tbody tr th {\n",
       "        vertical-align: top;\n",
       "    }\n",
       "\n",
       "    .dataframe thead th {\n",
       "        text-align: right;\n",
       "    }\n",
       "</style>\n",
       "<table border=\"1\" class=\"dataframe\">\n",
       "  <thead>\n",
       "    <tr style=\"text-align: right;\">\n",
       "      <th></th>\n",
       "      <th>Fold</th>\n",
       "      <th>Negative_Mean_Squared_Error</th>\n",
       "    </tr>\n",
       "  </thead>\n",
       "  <tbody>\n",
       "    <tr>\n",
       "      <td>0</td>\n",
       "      <td>1</td>\n",
       "      <td>-0.638558</td>\n",
       "    </tr>\n",
       "    <tr>\n",
       "      <td>1</td>\n",
       "      <td>2</td>\n",
       "      <td>0.191136</td>\n",
       "    </tr>\n",
       "    <tr>\n",
       "      <td>2</td>\n",
       "      <td>3</td>\n",
       "      <td>0.544018</td>\n",
       "    </tr>\n",
       "    <tr>\n",
       "      <td>3</td>\n",
       "      <td>4</td>\n",
       "      <td>0.012068</td>\n",
       "    </tr>\n",
       "    <tr>\n",
       "      <td>4</td>\n",
       "      <td>5</td>\n",
       "      <td>0.168815</td>\n",
       "    </tr>\n",
       "  </tbody>\n",
       "</table>\n",
       "</div>"
      ],
      "text/plain": [
       "   Fold  Negative_Mean_Squared_Error\n",
       "0     1                    -0.638558\n",
       "1     2                     0.191136\n",
       "2     3                     0.544018\n",
       "3     4                     0.012068\n",
       "4     5                     0.168815"
      ]
     },
     "execution_count": 12,
     "metadata": {},
     "output_type": "execute_result"
    }
   ],
   "source": [
    "cv_scores"
   ]
  },
  {
   "cell_type": "code",
   "execution_count": 13,
   "metadata": {},
   "outputs": [],
   "source": [
    "assert cv_scores['Negative_Mean_Squared_Error'].all() != 0"
   ]
  },
  {
   "cell_type": "code",
   "execution_count": 15,
   "metadata": {},
   "outputs": [
    {
     "data": {
      "text/plain": [
       "0.055495622391303276"
      ]
     },
     "execution_count": 15,
     "metadata": {},
     "output_type": "execute_result"
    }
   ],
   "source": [
    "np.mean(cv_scores['Negative_Mean_Squared_Error'])"
   ]
  },
  {
   "cell_type": "code",
   "execution_count": 40,
   "metadata": {},
   "outputs": [],
   "source": [
    "feature_list = list(avocado_x.columns)\n",
    "nice_feature_list = ['Latitude', 'Longitude',\n",
    "                     'Conventional Type', 'Organic Type',\n",
    "                     'Fall Season', 'Spring Season',\n",
    "                     'Summer Season', 'Winter Season']"
   ]
  },
  {
   "cell_type": "code",
   "execution_count": 41,
   "metadata": {},
   "outputs": [],
   "source": [
    "feature_df = pd.DataFrame({\"feature_names\": nice_feature_list,\n",
    "             \"importance\": random_rfr.best_estimator_.feature_importances_})"
   ]
  },
  {
   "cell_type": "code",
   "execution_count": 42,
   "metadata": {},
   "outputs": [],
   "source": [
    "feature_df.sort_values([\"importance\"], ascending=False, inplace=True)"
   ]
  },
  {
   "cell_type": "code",
   "execution_count": 43,
   "metadata": {},
   "outputs": [],
   "source": [
    "feature_df.reset_index(drop=True, inplace=True)"
   ]
  },
  {
   "cell_type": "code",
   "execution_count": 44,
   "metadata": {},
   "outputs": [
    {
     "data": {
      "text/html": [
       "<div>\n",
       "<style scoped>\n",
       "    .dataframe tbody tr th:only-of-type {\n",
       "        vertical-align: middle;\n",
       "    }\n",
       "\n",
       "    .dataframe tbody tr th {\n",
       "        vertical-align: top;\n",
       "    }\n",
       "\n",
       "    .dataframe thead th {\n",
       "        text-align: right;\n",
       "    }\n",
       "</style>\n",
       "<table border=\"1\" class=\"dataframe\">\n",
       "  <thead>\n",
       "    <tr style=\"text-align: right;\">\n",
       "      <th></th>\n",
       "      <th>feature_names</th>\n",
       "      <th>importance</th>\n",
       "    </tr>\n",
       "  </thead>\n",
       "  <tbody>\n",
       "    <tr>\n",
       "      <td>0</td>\n",
       "      <td>Organic Type</td>\n",
       "      <td>0.343258</td>\n",
       "    </tr>\n",
       "    <tr>\n",
       "      <td>1</td>\n",
       "      <td>Conventional Type</td>\n",
       "      <td>0.221314</td>\n",
       "    </tr>\n",
       "    <tr>\n",
       "      <td>2</td>\n",
       "      <td>Longitude</td>\n",
       "      <td>0.216016</td>\n",
       "    </tr>\n",
       "    <tr>\n",
       "      <td>3</td>\n",
       "      <td>Latitude</td>\n",
       "      <td>0.127150</td>\n",
       "    </tr>\n",
       "    <tr>\n",
       "      <td>4</td>\n",
       "      <td>Fall Season</td>\n",
       "      <td>0.047994</td>\n",
       "    </tr>\n",
       "    <tr>\n",
       "      <td>5</td>\n",
       "      <td>Summer Season</td>\n",
       "      <td>0.026078</td>\n",
       "    </tr>\n",
       "    <tr>\n",
       "      <td>6</td>\n",
       "      <td>Winter Season</td>\n",
       "      <td>0.012480</td>\n",
       "    </tr>\n",
       "    <tr>\n",
       "      <td>7</td>\n",
       "      <td>Spring Season</td>\n",
       "      <td>0.005709</td>\n",
       "    </tr>\n",
       "  </tbody>\n",
       "</table>\n",
       "</div>"
      ],
      "text/plain": [
       "       feature_names  importance\n",
       "0       Organic Type    0.343258\n",
       "1  Conventional Type    0.221314\n",
       "2          Longitude    0.216016\n",
       "3           Latitude    0.127150\n",
       "4        Fall Season    0.047994\n",
       "5      Summer Season    0.026078\n",
       "6      Winter Season    0.012480\n",
       "7      Spring Season    0.005709"
      ]
     },
     "execution_count": 44,
     "metadata": {},
     "output_type": "execute_result"
    }
   ],
   "source": [
    "feature_df"
   ]
  },
  {
   "cell_type": "code",
   "execution_count": 53,
   "metadata": {},
   "outputs": [
    {
     "data": {
      "application/javascript": [
       "const spec = {\"config\": {\"view\": {\"width\": 400, \"height\": 300}, \"mark\": {\"tooltip\": null}}, \"data\": {\"name\": \"data-b1472c4c394cf40bf862b3db0e602d2e\"}, \"mark\": {\"type\": \"bar\", \"color\": \"red\", \"opacity\": 0.6}, \"encoding\": {\"x\": {\"type\": \"quantitative\", \"field\": \"importance\", \"title\": \"Feature Importance\"}, \"y\": {\"type\": \"nominal\", \"field\": \"feature_names\", \"sort\": {\"field\": \"importance:Q\"}, \"title\": \"Features\"}}, \"title\": \"Random Forest Regression\", \"width\": 200, \"$schema\": \"https://vega.github.io/schema/vega-lite/v3.4.0.json\", \"datasets\": {\"data-b1472c4c394cf40bf862b3db0e602d2e\": [{\"feature_names\": \"Organic Type\", \"importance\": 0.34325806790807895}, {\"feature_names\": \"Conventional Type\", \"importance\": 0.221314356818013}, {\"feature_names\": \"Longitude\", \"importance\": 0.2160160719744485}, {\"feature_names\": \"Latitude\", \"importance\": 0.127149880630266}, {\"feature_names\": \"Fall Season\", \"importance\": 0.047994031078895695}, {\"feature_names\": \"Summer Season\", \"importance\": 0.0260780906797416}, {\"feature_names\": \"Winter Season\", \"importance\": 0.012480293155137575}, {\"feature_names\": \"Spring Season\", \"importance\": 0.005709207755418713}]}};\n",
       "const opt = {};\n",
       "const type = \"vega-lite\";\n",
       "const id = \"f93a9b35-21fa-43a8-ba7c-bfdbb56c7a6a\";\n",
       "\n",
       "const output_area = this;\n",
       "\n",
       "require([\"nbextensions/jupyter-vega/index\"], function(vega) {\n",
       "  const target = document.createElement(\"div\");\n",
       "  target.id = id;\n",
       "  target.className = \"vega-embed\";\n",
       "\n",
       "  const style = document.createElement(\"style\");\n",
       "  style.textContent = [\n",
       "    \".vega-embed .error p {\",\n",
       "    \"  color: firebrick;\",\n",
       "    \"  font-size: 14px;\",\n",
       "    \"}\",\n",
       "  ].join(\"\\\\n\");\n",
       "\n",
       "  // element is a jQuery wrapped DOM element inside the output area\n",
       "  // see http://ipython.readthedocs.io/en/stable/api/generated/\\\n",
       "  // IPython.display.html#IPython.display.Javascript.__init__\n",
       "  element[0].appendChild(target);\n",
       "  element[0].appendChild(style);\n",
       "\n",
       "  vega.render(\"#\" + id, spec, type, opt, output_area);\n",
       "}, function (err) {\n",
       "  if (err.requireType !== \"scripterror\") {\n",
       "    throw(err);\n",
       "  }\n",
       "});\n"
      ],
      "text/plain": [
       "<vega.vegalite.VegaLite at 0x12b85bcd0>"
      ]
     },
     "metadata": {
      "jupyter-vega": "#f93a9b35-21fa-43a8-ba7c-bfdbb56c7a6a"
     },
     "output_type": "display_data"
    },
    {
     "data": {
      "text/plain": []
     },
     "execution_count": 53,
     "metadata": {},
     "output_type": "execute_result"
    },
    {
     "data": {
      "image/png": "[encoded data removed]"
     },
     "metadata": {
      "jupyter-vega": "#f93a9b35-21fa-43a8-ba7c-bfdbb56c7a6a"
     },
     "output_type": "display_data"
    }
   ],
   "source": [
    "rfr_plot = alt.Chart(feature_df).mark_bar(color=\"red\", opacity=0.6).encode(\n",
    "    y= alt.Y(\"feature_names:N\",\n",
    "             sort=alt.SortField(field='importance:Q'),\n",
    "             title=\"Features\"),\n",
    "    x = alt.X(\"importance:Q\", title=\"Feature Importance\")\n",
    ").properties(title=\"Random Forest Regression\",\n",
    "             width=200)\n",
    "\n",
    "rfr_plot"
   ]
  },
  {
   "cell_type": "code",
   "execution_count": 22,
   "metadata": {},
   "outputs": [
    {
     "data": {
      "text/plain": [
       "0.6681831284194752"
      ]
     },
     "execution_count": 22,
     "metadata": {},
     "output_type": "execute_result"
    }
   ],
   "source": [
    "rfr.score(avocado_x, avocado_y)"
   ]
  },
  {
   "cell_type": "code",
   "execution_count": 23,
   "metadata": {},
   "outputs": [
    {
     "data": {
      "text/plain": [
       "Lasso(alpha=335, copy_X=True, fit_intercept=True, max_iter=1000,\n",
       "      normalize=False, positive=False, precompute=False, random_state=None,\n",
       "      selection='cyclic', tol=0.0001, warm_start=False)"
      ]
     },
     "execution_count": 23,
     "metadata": {},
     "output_type": "execute_result"
    }
   ],
   "source": [
    "lr = Lasso()\n",
    "\n",
    "param_grid = {\"alpha\": [i for i in range(0, 1000, 1)]}\n",
    "\n",
    "lr_rs = RandomizedSearchCV(lr, param_grid, cv=5).fit(avocado_x, avocado_y)\n",
    "\n",
    "lr_rs.best_params_\n",
    "\n",
    "lr2 = Lasso(alpha=335)\n",
    "\n",
    "lr2.fit(avocado_x, avocado_y)\n",
    "\n",
    "#lr.fit(avocado_x, avocado_y)"
   ]
  },
  {
   "cell_type": "code",
   "execution_count": 24,
   "metadata": {},
   "outputs": [
    {
     "data": {
      "text/html": [
       "<div>\n",
       "<style scoped>\n",
       "    .dataframe tbody tr th:only-of-type {\n",
       "        vertical-align: middle;\n",
       "    }\n",
       "\n",
       "    .dataframe tbody tr th {\n",
       "        vertical-align: top;\n",
       "    }\n",
       "\n",
       "    .dataframe thead th {\n",
       "        text-align: right;\n",
       "    }\n",
       "</style>\n",
       "<table border=\"1\" class=\"dataframe\">\n",
       "  <thead>\n",
       "    <tr style=\"text-align: right;\">\n",
       "      <th></th>\n",
       "      <th>Fold</th>\n",
       "      <th>Negative_Mean_Squared_Error</th>\n",
       "    </tr>\n",
       "  </thead>\n",
       "  <tbody>\n",
       "    <tr>\n",
       "      <td>0</td>\n",
       "      <td>1</td>\n",
       "      <td>-3.982792</td>\n",
       "    </tr>\n",
       "    <tr>\n",
       "      <td>1</td>\n",
       "      <td>2</td>\n",
       "      <td>-0.830008</td>\n",
       "    </tr>\n",
       "    <tr>\n",
       "      <td>2</td>\n",
       "      <td>3</td>\n",
       "      <td>-0.023900</td>\n",
       "    </tr>\n",
       "    <tr>\n",
       "      <td>3</td>\n",
       "      <td>4</td>\n",
       "      <td>-0.480140</td>\n",
       "    </tr>\n",
       "    <tr>\n",
       "      <td>4</td>\n",
       "      <td>5</td>\n",
       "      <td>-0.776321</td>\n",
       "    </tr>\n",
       "  </tbody>\n",
       "</table>\n",
       "</div>"
      ],
      "text/plain": [
       "   Fold  Negative_Mean_Squared_Error\n",
       "0     1                    -3.982792\n",
       "1     2                    -0.830008\n",
       "2     3                    -0.023900\n",
       "3     4                    -0.480140\n",
       "4     5                    -0.776321"
      ]
     },
     "execution_count": 24,
     "metadata": {},
     "output_type": "execute_result"
    }
   ],
   "source": [
    "fold_accuracies_lr = cross_val_score(estimator=lr2, X=avocado_x, y=avocado_y, cv=5)\n",
    "cv_scores_dict_lr = {'Fold': [1, 2, 3, 4, 5],\n",
    "                  'Negative_Mean_Squared_Error': fold_accuracies_lr}\n",
    "pd.DataFrame(cv_scores_dict_lr)"
   ]
  },
  {
   "cell_type": "code",
   "execution_count": 25,
   "metadata": {},
   "outputs": [
    {
     "data": {
      "text/plain": [
       "-1.218632137672872"
      ]
     },
     "execution_count": 25,
     "metadata": {},
     "output_type": "execute_result"
    }
   ],
   "source": [
    "np.mean(cv_scores_dict_lr['Negative_Mean_Squared_Error'])"
   ]
  },
  {
   "cell_type": "code",
   "execution_count": 26,
   "metadata": {},
   "outputs": [
    {
     "data": {
      "text/plain": [
       "0.0"
      ]
     },
     "execution_count": 26,
     "metadata": {},
     "output_type": "execute_result"
    }
   ],
   "source": [
    "lr2.score(avocado_x, avocado_y)"
   ]
  },
  {
   "cell_type": "code",
   "execution_count": 27,
   "metadata": {},
   "outputs": [
    {
     "data": {
      "text/plain": [
       "[('lat', 0.0),\n",
       " ('lon', 0.0),\n",
       " ('type_conventional', -0.0),\n",
       " ('type_organic', 0.0),\n",
       " ('season_Fall', 0.0),\n",
       " ('season_Spring', -0.0),\n",
       " ('season_Summer', 0.0),\n",
       " ('season_Winter', -0.0)]"
      ]
     },
     "execution_count": 27,
     "metadata": {},
     "output_type": "execute_result"
    }
   ],
   "source": [
    "list(zip(feature_list, lr2.coef_))"
   ]
  },
  {
   "cell_type": "markdown",
   "metadata": {},
   "source": [
    "Now try L2 regularization"
   ]
  },
  {
   "cell_type": "code",
   "execution_count": 28,
   "metadata": {},
   "outputs": [
    {
     "data": {
      "text/plain": [
       "Ridge(alpha=17, copy_X=True, fit_intercept=True, max_iter=None, normalize=False,\n",
       "      random_state=None, solver='auto', tol=0.001)"
      ]
     },
     "execution_count": 28,
     "metadata": {},
     "output_type": "execute_result"
    }
   ],
   "source": [
    "\n",
    "r = Ridge()\n",
    "\n",
    "param_grid = {\"alpha\": [i for i in range(0, 1000, 1)]}\n",
    "\n",
    "r_rs = RandomizedSearchCV(r, param_grid, cv=5, random_state=123).fit(avocado_x, avocado_y)\n",
    "\n",
    "r_rs.best_params_['alpha']\n",
    "\n",
    "r2 = Ridge(alpha=r_rs.best_params_['alpha'])\n",
    "\n",
    "r2.fit(avocado_x, avocado_y)"
   ]
  },
  {
   "cell_type": "code",
   "execution_count": 29,
   "metadata": {},
   "outputs": [
    {
     "data": {
      "text/html": [
       "<div>\n",
       "<style scoped>\n",
       "    .dataframe tbody tr th:only-of-type {\n",
       "        vertical-align: middle;\n",
       "    }\n",
       "\n",
       "    .dataframe tbody tr th {\n",
       "        vertical-align: top;\n",
       "    }\n",
       "\n",
       "    .dataframe thead th {\n",
       "        text-align: right;\n",
       "    }\n",
       "</style>\n",
       "<table border=\"1\" class=\"dataframe\">\n",
       "  <thead>\n",
       "    <tr style=\"text-align: right;\">\n",
       "      <th></th>\n",
       "      <th>Fold</th>\n",
       "      <th>Negative_Mean_Squared_Error</th>\n",
       "    </tr>\n",
       "  </thead>\n",
       "  <tbody>\n",
       "    <tr>\n",
       "      <td>0</td>\n",
       "      <td>1</td>\n",
       "      <td>-0.458910</td>\n",
       "    </tr>\n",
       "    <tr>\n",
       "      <td>1</td>\n",
       "      <td>2</td>\n",
       "      <td>0.220691</td>\n",
       "    </tr>\n",
       "    <tr>\n",
       "      <td>2</td>\n",
       "      <td>3</td>\n",
       "      <td>0.416648</td>\n",
       "    </tr>\n",
       "    <tr>\n",
       "      <td>3</td>\n",
       "      <td>4</td>\n",
       "      <td>-0.050961</td>\n",
       "    </tr>\n",
       "    <tr>\n",
       "      <td>4</td>\n",
       "      <td>5</td>\n",
       "      <td>0.004860</td>\n",
       "    </tr>\n",
       "  </tbody>\n",
       "</table>\n",
       "</div>"
      ],
      "text/plain": [
       "   Fold  Negative_Mean_Squared_Error\n",
       "0     1                    -0.458910\n",
       "1     2                     0.220691\n",
       "2     3                     0.416648\n",
       "3     4                    -0.050961\n",
       "4     5                     0.004860"
      ]
     },
     "execution_count": 29,
     "metadata": {},
     "output_type": "execute_result"
    }
   ],
   "source": [
    "fold_accuracies_r = cross_val_score(estimator=r2, X=avocado_x, y=avocado_y, cv=5)\n",
    "cv_scores_dict_r = {'Fold': [1, 2, 3, 4, 5],\n",
    "                  'Negative_Mean_Squared_Error': fold_accuracies_r}\n",
    "pd.DataFrame(cv_scores_dict_r)"
   ]
  },
  {
   "cell_type": "code",
   "execution_count": 30,
   "metadata": {},
   "outputs": [
    {
     "data": {
      "text/plain": [
       "0.0264655266731992"
      ]
     },
     "execution_count": 30,
     "metadata": {},
     "output_type": "execute_result"
    }
   ],
   "source": [
    "np.mean(cv_scores_dict_r['Negative_Mean_Squared_Error'])"
   ]
  },
  {
   "cell_type": "code",
   "execution_count": 31,
   "metadata": {},
   "outputs": [
    {
     "data": {
      "text/plain": [
       "[('lat', 0.040904885778869325),\n",
       " ('lon', 0.0369545115458163),\n",
       " ('type_conventional', -0.24978385350368837),\n",
       " ('type_organic', 0.2497838535037117),\n",
       " ('season_Fall', 0.12179872661856912),\n",
       " ('season_Spring', -0.06179872109565188),\n",
       " ('season_Summer', 0.0503069190869013),\n",
       " ('season_Winter', -0.11030692460978973)]"
      ]
     },
     "execution_count": 31,
     "metadata": {},
     "output_type": "execute_result"
    }
   ],
   "source": [
    "list(zip(feature_list, r2.coef_))"
   ]
  },
  {
   "cell_type": "code",
   "execution_count": 47,
   "metadata": {},
   "outputs": [
    {
     "data": {
      "text/html": [
       "<div>\n",
       "<style scoped>\n",
       "    .dataframe tbody tr th:only-of-type {\n",
       "        vertical-align: middle;\n",
       "    }\n",
       "\n",
       "    .dataframe tbody tr th {\n",
       "        vertical-align: top;\n",
       "    }\n",
       "\n",
       "    .dataframe thead th {\n",
       "        text-align: right;\n",
       "    }\n",
       "</style>\n",
       "<table border=\"1\" class=\"dataframe\">\n",
       "  <thead>\n",
       "    <tr style=\"text-align: right;\">\n",
       "      <th></th>\n",
       "      <th>feature_names</th>\n",
       "      <th>weights</th>\n",
       "    </tr>\n",
       "  </thead>\n",
       "  <tbody>\n",
       "    <tr>\n",
       "      <td>3</td>\n",
       "      <td>Organic Type</td>\n",
       "      <td>0.249784</td>\n",
       "    </tr>\n",
       "    <tr>\n",
       "      <td>4</td>\n",
       "      <td>Fall Season</td>\n",
       "      <td>0.121799</td>\n",
       "    </tr>\n",
       "    <tr>\n",
       "      <td>6</td>\n",
       "      <td>Summer Season</td>\n",
       "      <td>0.050307</td>\n",
       "    </tr>\n",
       "    <tr>\n",
       "      <td>0</td>\n",
       "      <td>Latitude</td>\n",
       "      <td>0.040905</td>\n",
       "    </tr>\n",
       "    <tr>\n",
       "      <td>1</td>\n",
       "      <td>Longitude</td>\n",
       "      <td>0.036955</td>\n",
       "    </tr>\n",
       "    <tr>\n",
       "      <td>5</td>\n",
       "      <td>Spring Season</td>\n",
       "      <td>-0.061799</td>\n",
       "    </tr>\n",
       "    <tr>\n",
       "      <td>7</td>\n",
       "      <td>Winter Season</td>\n",
       "      <td>-0.110307</td>\n",
       "    </tr>\n",
       "    <tr>\n",
       "      <td>2</td>\n",
       "      <td>Conventional Type</td>\n",
       "      <td>-0.249784</td>\n",
       "    </tr>\n",
       "  </tbody>\n",
       "</table>\n",
       "</div>"
      ],
      "text/plain": [
       "       feature_names   weights\n",
       "3       Organic Type  0.249784\n",
       "4        Fall Season  0.121799\n",
       "6      Summer Season  0.050307\n",
       "0           Latitude  0.040905\n",
       "1          Longitude  0.036955\n",
       "5      Spring Season -0.061799\n",
       "7      Winter Season -0.110307\n",
       "2  Conventional Type -0.249784"
      ]
     },
     "execution_count": 47,
     "metadata": {},
     "output_type": "execute_result"
    }
   ],
   "source": [
    "lr_feature_df = pd.DataFrame({\"feature_names\": nice_feature_list,\n",
    "         \"weights\": r2.coef_})\n",
    "lr_feature_df = lr_feature_df.sort_values([\"weights\"], ascending=False)\n",
    "lr_feature_df"
   ]
  },
  {
   "cell_type": "code",
   "execution_count": 51,
   "metadata": {},
   "outputs": [],
   "source": [
    "lr_plot = alt.Chart(lr_feature_df).mark_bar(color=\"blue\", opacity=0.6).encode(\n",
    "    y = alt.Y(\"feature_names:N\",\n",
    "              sort=alt.SortField(field=\"abs(weights):Q\"),\n",
    "              title=\"Features\"),\n",
    "    x = alt.X(\"weights:Q\", title=\"Coefficient Weights\")\n",
    ").properties(title=\"Linear Regression\",\n",
    "       width=200)"
   ]
  },
  {
   "cell_type": "code",
   "execution_count": 52,
   "metadata": {},
   "outputs": [
    {
     "data": {
      "application/javascript": [
       "const spec = {\"config\": {\"view\": {\"width\": 400, \"height\": 300}, \"mark\": {\"tooltip\": null}}, \"data\": {\"name\": \"data-c596700ff9f3c5848f313ae716d586ff\"}, \"mark\": {\"type\": \"bar\", \"color\": \"blue\", \"opacity\": 0.6}, \"encoding\": {\"x\": {\"type\": \"quantitative\", \"field\": \"weights\", \"title\": \"Coefficient Weights\"}, \"y\": {\"type\": \"nominal\", \"field\": \"feature_names\", \"sort\": {\"field\": \"abs(weights):Q\"}, \"title\": \"Features\"}}, \"title\": \"Linear Regression\", \"width\": 200, \"$schema\": \"https://vega.github.io/schema/vega-lite/v3.4.0.json\", \"datasets\": {\"data-c596700ff9f3c5848f313ae716d586ff\": [{\"feature_names\": \"Organic Type\", \"weights\": 0.2497838535037117}, {\"feature_names\": \"Fall Season\", \"weights\": 0.12179872661856912}, {\"feature_names\": \"Summer Season\", \"weights\": 0.0503069190869013}, {\"feature_names\": \"Latitude\", \"weights\": 0.040904885778869325}, {\"feature_names\": \"Longitude\", \"weights\": 0.0369545115458163}, {\"feature_names\": \"Spring Season\", \"weights\": -0.06179872109565188}, {\"feature_names\": \"Winter Season\", \"weights\": -0.11030692460978973}, {\"feature_names\": \"Conventional Type\", \"weights\": -0.24978385350368837}]}};\n",
       "const opt = {};\n",
       "const type = \"vega-lite\";\n",
       "const id = \"d5b5ec3b-7e5d-4f11-b7e7-d840c45c5fde\";\n",
       "\n",
       "const output_area = this;\n",
       "\n",
       "require([\"nbextensions/jupyter-vega/index\"], function(vega) {\n",
       "  const target = document.createElement(\"div\");\n",
       "  target.id = id;\n",
       "  target.className = \"vega-embed\";\n",
       "\n",
       "  const style = document.createElement(\"style\");\n",
       "  style.textContent = [\n",
       "    \".vega-embed .error p {\",\n",
       "    \"  color: firebrick;\",\n",
       "    \"  font-size: 14px;\",\n",
       "    \"}\",\n",
       "  ].join(\"\\\\n\");\n",
       "\n",
       "  // element is a jQuery wrapped DOM element inside the output area\n",
       "  // see http://ipython.readthedocs.io/en/stable/api/generated/\\\n",
       "  // IPython.display.html#IPython.display.Javascript.__init__\n",
       "  element[0].appendChild(target);\n",
       "  element[0].appendChild(style);\n",
       "\n",
       "  vega.render(\"#\" + id, spec, type, opt, output_area);\n",
       "}, function (err) {\n",
       "  if (err.requireType !== \"scripterror\") {\n",
       "    throw(err);\n",
       "  }\n",
       "});\n"
      ],
      "text/plain": [
       "<vega.vegalite.VegaLite at 0x12784f850>"
      ]
     },
     "metadata": {
      "jupyter-vega": "#d5b5ec3b-7e5d-4f11-b7e7-d840c45c5fde"
     },
     "output_type": "display_data"
    },
    {
     "data": {
      "text/plain": []
     },
     "execution_count": 52,
     "metadata": {},
     "output_type": "execute_result"
    },
    {
     "data": {
      "image/png": "[encoded data removed]"
     },
     "metadata": {
      "jupyter-vega": "#d5b5ec3b-7e5d-4f11-b7e7-d840c45c5fde"
     },
     "output_type": "display_data"
    }
   ],
   "source": [
    "lr_plot"
   ]
  },
  {
   "cell_type": "code",
   "execution_count": 54,
   "metadata": {},
   "outputs": [
    {
     "data": {
      "application/javascript": [
       "const spec = {\"config\": {\"view\": {\"width\": 400, \"height\": 300}, \"mark\": {\"tooltip\": null}}, \"hconcat\": [{\"data\": {\"name\": \"data-b1472c4c394cf40bf862b3db0e602d2e\"}, \"mark\": {\"type\": \"bar\", \"color\": \"red\", \"opacity\": 0.6}, \"encoding\": {\"x\": {\"type\": \"quantitative\", \"field\": \"importance\", \"title\": \"Feature Importance\"}, \"y\": {\"type\": \"nominal\", \"field\": \"feature_names\", \"sort\": {\"field\": \"importance:Q\"}, \"title\": \"Features\"}}, \"title\": \"Random Forest Regression\", \"width\": 200}, {\"data\": {\"name\": \"data-c596700ff9f3c5848f313ae716d586ff\"}, \"mark\": {\"type\": \"bar\", \"color\": \"blue\", \"opacity\": 0.6}, \"encoding\": {\"x\": {\"type\": \"quantitative\", \"field\": \"weights\", \"title\": \"Coefficient Weights\"}, \"y\": {\"type\": \"nominal\", \"field\": \"feature_names\", \"sort\": {\"field\": \"abs(weights):Q\"}, \"title\": \"Features\"}}, \"title\": \"Linear Regression\", \"width\": 200}], \"$schema\": \"https://vega.github.io/schema/vega-lite/v3.4.0.json\", \"datasets\": {\"data-b1472c4c394cf40bf862b3db0e602d2e\": [{\"feature_names\": \"Organic Type\", \"importance\": 0.34325806790807895}, {\"feature_names\": \"Conventional Type\", \"importance\": 0.221314356818013}, {\"feature_names\": \"Longitude\", \"importance\": 0.2160160719744485}, {\"feature_names\": \"Latitude\", \"importance\": 0.127149880630266}, {\"feature_names\": \"Fall Season\", \"importance\": 0.047994031078895695}, {\"feature_names\": \"Summer Season\", \"importance\": 0.0260780906797416}, {\"feature_names\": \"Winter Season\", \"importance\": 0.012480293155137575}, {\"feature_names\": \"Spring Season\", \"importance\": 0.005709207755418713}], \"data-c596700ff9f3c5848f313ae716d586ff\": [{\"feature_names\": \"Organic Type\", \"weights\": 0.2497838535037117}, {\"feature_names\": \"Fall Season\", \"weights\": 0.12179872661856912}, {\"feature_names\": \"Summer Season\", \"weights\": 0.0503069190869013}, {\"feature_names\": \"Latitude\", \"weights\": 0.040904885778869325}, {\"feature_names\": \"Longitude\", \"weights\": 0.0369545115458163}, {\"feature_names\": \"Spring Season\", \"weights\": -0.06179872109565188}, {\"feature_names\": \"Winter Season\", \"weights\": -0.11030692460978973}, {\"feature_names\": \"Conventional Type\", \"weights\": -0.24978385350368837}]}};\n",
       "const opt = {};\n",
       "const type = \"vega-lite\";\n",
       "const id = \"d9d2dfa2-344a-46b2-b9ff-f58da35a0336\";\n",
       "\n",
       "const output_area = this;\n",
       "\n",
       "require([\"nbextensions/jupyter-vega/index\"], function(vega) {\n",
       "  const target = document.createElement(\"div\");\n",
       "  target.id = id;\n",
       "  target.className = \"vega-embed\";\n",
       "\n",
       "  const style = document.createElement(\"style\");\n",
       "  style.textContent = [\n",
       "    \".vega-embed .error p {\",\n",
       "    \"  color: firebrick;\",\n",
       "    \"  font-size: 14px;\",\n",
       "    \"}\",\n",
       "  ].join(\"\\\\n\");\n",
       "\n",
       "  // element is a jQuery wrapped DOM element inside the output area\n",
       "  // see http://ipython.readthedocs.io/en/stable/api/generated/\\\n",
       "  // IPython.display.html#IPython.display.Javascript.__init__\n",
       "  element[0].appendChild(target);\n",
       "  element[0].appendChild(style);\n",
       "\n",
       "  vega.render(\"#\" + id, spec, type, opt, output_area);\n",
       "}, function (err) {\n",
       "  if (err.requireType !== \"scripterror\") {\n",
       "    throw(err);\n",
       "  }\n",
       "});\n"
      ],
      "text/plain": [
       "<vega.vegalite.VegaLite at 0x12b32af90>"
      ]
     },
     "metadata": {
      "jupyter-vega": "#d9d2dfa2-344a-46b2-b9ff-f58da35a0336"
     },
     "output_type": "display_data"
    },
    {
     "data": {
      "text/plain": []
     },
     "execution_count": 54,
     "metadata": {},
     "output_type": "execute_result"
    },
    {
     "data": {
      "image/png": "[encoded data removed]"
     },
     "metadata": {
      "jupyter-vega": "#d9d2dfa2-344a-46b2-b9ff-f58da35a0336"
     },
     "output_type": "display_data"
    }
   ],
   "source": [
    "rfr_plot | lr_plot"
   ]
  },
  {
   "cell_type": "code",
   "execution_count": null,
   "metadata": {},
   "outputs": [],
   "source": []
  }
 ],
 "metadata": {
  "kernelspec": {
   "display_name": "Python 3",
   "language": "python",
   "name": "python3"
  },
  "language_info": {
   "codemirror_mode": {
    "name": "ipython",
    "version": 3
   },
   "file_extension": ".py",
   "mimetype": "text/x-python",
   "name": "python",
   "nbconvert_exporter": "python",
   "pygments_lexer": "ipython3",
   "version": "3.7.4"
  }
 },
 "nbformat": 4,
 "nbformat_minor": 2
}
