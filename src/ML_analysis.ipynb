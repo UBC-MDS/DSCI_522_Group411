{
 "cells": [
  {
   "cell_type": "code",
   "execution_count": 6,
   "metadata": {},
   "outputs": [],
   "source": [
    "import pandas as pd\n",
    "import numpy as np\n",
    "from sklearn.ensemble import RandomForestRegressor\n",
    "from sklearn.preprocessing import OneHotEncoder\n",
    "from sklearn.compose import ColumnTransformer\n",
    "from sklearn.model_selection import RandomizedSearchCV, cross_val_score\n",
    "import altair as alt\n",
    "from sklearn.linear_model import LinearRegression\n",
    "from sklearn.model_selection import train_test_split\n",
    "from pyarrow import feather"
   ]
  },
  {
   "cell_type": "code",
   "execution_count": 7,
   "metadata": {},
   "outputs": [
    {
     "data": {
      "text/html": [
       "<div>\n",
       "<style scoped>\n",
       "    .dataframe tbody tr th:only-of-type {\n",
       "        vertical-align: middle;\n",
       "    }\n",
       "\n",
       "    .dataframe tbody tr th {\n",
       "        vertical-align: top;\n",
       "    }\n",
       "\n",
       "    .dataframe thead th {\n",
       "        text-align: right;\n",
       "    }\n",
       "</style>\n",
       "<table border=\"1\" class=\"dataframe\">\n",
       "  <thead>\n",
       "    <tr style=\"text-align: right;\">\n",
       "      <th></th>\n",
       "      <th>X1</th>\n",
       "      <th>date</th>\n",
       "      <th>average_price</th>\n",
       "      <th>total_volume</th>\n",
       "      <th>PLU_4046</th>\n",
       "      <th>PLU_4225</th>\n",
       "      <th>PLU_4770</th>\n",
       "      <th>total_bags</th>\n",
       "      <th>small_bags</th>\n",
       "      <th>large_bags</th>\n",
       "      <th>xlarge_bags</th>\n",
       "      <th>type</th>\n",
       "      <th>year</th>\n",
       "      <th>region</th>\n",
       "      <th>month</th>\n",
       "      <th>year_month</th>\n",
       "    </tr>\n",
       "  </thead>\n",
       "  <tbody>\n",
       "    <tr>\n",
       "      <td>0</td>\n",
       "      <td>0.0</td>\n",
       "      <td>2015-12-27</td>\n",
       "      <td>1.33</td>\n",
       "      <td>64236.62</td>\n",
       "      <td>1036.74</td>\n",
       "      <td>54454.85</td>\n",
       "      <td>48.16</td>\n",
       "      <td>8696.87</td>\n",
       "      <td>8603.62</td>\n",
       "      <td>93.25</td>\n",
       "      <td>0.0</td>\n",
       "      <td>conventional</td>\n",
       "      <td>2015.0</td>\n",
       "      <td>Albany</td>\n",
       "      <td>Dec</td>\n",
       "      <td>2015-12</td>\n",
       "    </tr>\n",
       "    <tr>\n",
       "      <td>1</td>\n",
       "      <td>1.0</td>\n",
       "      <td>2015-12-20</td>\n",
       "      <td>1.35</td>\n",
       "      <td>54876.98</td>\n",
       "      <td>674.28</td>\n",
       "      <td>44638.81</td>\n",
       "      <td>58.33</td>\n",
       "      <td>9505.56</td>\n",
       "      <td>9408.07</td>\n",
       "      <td>97.49</td>\n",
       "      <td>0.0</td>\n",
       "      <td>conventional</td>\n",
       "      <td>2015.0</td>\n",
       "      <td>Albany</td>\n",
       "      <td>Dec</td>\n",
       "      <td>2015-12</td>\n",
       "    </tr>\n",
       "    <tr>\n",
       "      <td>2</td>\n",
       "      <td>2.0</td>\n",
       "      <td>2015-12-13</td>\n",
       "      <td>0.93</td>\n",
       "      <td>118220.22</td>\n",
       "      <td>794.70</td>\n",
       "      <td>109149.67</td>\n",
       "      <td>130.50</td>\n",
       "      <td>8145.35</td>\n",
       "      <td>8042.21</td>\n",
       "      <td>103.14</td>\n",
       "      <td>0.0</td>\n",
       "      <td>conventional</td>\n",
       "      <td>2015.0</td>\n",
       "      <td>Albany</td>\n",
       "      <td>Dec</td>\n",
       "      <td>2015-12</td>\n",
       "    </tr>\n",
       "    <tr>\n",
       "      <td>3</td>\n",
       "      <td>3.0</td>\n",
       "      <td>2015-12-06</td>\n",
       "      <td>1.08</td>\n",
       "      <td>78992.15</td>\n",
       "      <td>1132.00</td>\n",
       "      <td>71976.41</td>\n",
       "      <td>72.58</td>\n",
       "      <td>5811.16</td>\n",
       "      <td>5677.40</td>\n",
       "      <td>133.76</td>\n",
       "      <td>0.0</td>\n",
       "      <td>conventional</td>\n",
       "      <td>2015.0</td>\n",
       "      <td>Albany</td>\n",
       "      <td>Dec</td>\n",
       "      <td>2015-12</td>\n",
       "    </tr>\n",
       "    <tr>\n",
       "      <td>4</td>\n",
       "      <td>4.0</td>\n",
       "      <td>2015-11-29</td>\n",
       "      <td>1.28</td>\n",
       "      <td>51039.60</td>\n",
       "      <td>941.48</td>\n",
       "      <td>43838.39</td>\n",
       "      <td>75.78</td>\n",
       "      <td>6183.95</td>\n",
       "      <td>5986.26</td>\n",
       "      <td>197.69</td>\n",
       "      <td>0.0</td>\n",
       "      <td>conventional</td>\n",
       "      <td>2015.0</td>\n",
       "      <td>Albany</td>\n",
       "      <td>Nov</td>\n",
       "      <td>2015-11</td>\n",
       "    </tr>\n",
       "  </tbody>\n",
       "</table>\n",
       "</div>"
      ],
      "text/plain": [
       "    X1        date  average_price  total_volume  PLU_4046   PLU_4225  \\\n",
       "0  0.0  2015-12-27           1.33      64236.62   1036.74   54454.85   \n",
       "1  1.0  2015-12-20           1.35      54876.98    674.28   44638.81   \n",
       "2  2.0  2015-12-13           0.93     118220.22    794.70  109149.67   \n",
       "3  3.0  2015-12-06           1.08      78992.15   1132.00   71976.41   \n",
       "4  4.0  2015-11-29           1.28      51039.60    941.48   43838.39   \n",
       "\n",
       "   PLU_4770  total_bags  small_bags  large_bags  xlarge_bags          type  \\\n",
       "0     48.16     8696.87     8603.62       93.25          0.0  conventional   \n",
       "1     58.33     9505.56     9408.07       97.49          0.0  conventional   \n",
       "2    130.50     8145.35     8042.21      103.14          0.0  conventional   \n",
       "3     72.58     5811.16     5677.40      133.76          0.0  conventional   \n",
       "4     75.78     6183.95     5986.26      197.69          0.0  conventional   \n",
       "\n",
       "     year  region month year_month  \n",
       "0  2015.0  Albany   Dec    2015-12  \n",
       "1  2015.0  Albany   Dec    2015-12  \n",
       "2  2015.0  Albany   Dec    2015-12  \n",
       "3  2015.0  Albany   Dec    2015-12  \n",
       "4  2015.0  Albany   Nov    2015-11  "
      ]
     },
     "execution_count": 7,
     "metadata": {},
     "output_type": "execute_result"
    }
   ],
   "source": [
    "# load in feather datasets \n",
    "# training dataset\n",
    "avocado = pd.read_feather(\"../data/train.feather\")\n",
    "avocado.head()\n",
    "# test dataset\n",
    "# avocado_test = pd.read_feather(\"test.feather\")\n",
    "# avocado_test.head()"
   ]
  },
  {
   "cell_type": "code",
   "execution_count": 8,
   "metadata": {},
   "outputs": [
    {
     "data": {
      "text/plain": [
       "Index(['X1', 'date', 'average_price', 'total_volume', 'PLU_4046', 'PLU_4225',\n",
       "       'PLU_4770', 'total_bags', 'small_bags', 'large_bags', 'xlarge_bags',\n",
       "       'type', 'year', 'region', 'month', 'year_month'],\n",
       "      dtype='object')"
      ]
     },
     "execution_count": 8,
     "metadata": {},
     "output_type": "execute_result"
    }
   ],
   "source": [
    "# Which features do we want to keep?\n",
    "avocado.columns\n",
    "# want month, region, type as our features"
   ]
  },
  {
   "cell_type": "code",
   "execution_count": 10,
   "metadata": {},
   "outputs": [],
   "source": [
    "# Split the data into target and features\n",
    "avocado_x = avocado[['region', 'type', 'month']]\n",
    "avocado_y = avocado['average_price']\n",
    "\n",
    "# avocado_test_x = avocado_test[['region', 'type', 'month']]\n",
    "# avocado_test_y = avocado['AveragePrice']\n",
    "\n",
    "# need to convert categorical to numerical using one-hot-encoding\n",
    "categorical_features = ['region', 'type', 'month']\n",
    "\n",
    "preprocessor = ColumnTransformer(transformers=[\n",
    "    ('ohe', OneHotEncoder(drop=\"first\"), categorical_features)\n",
    "])\n",
    "\n",
    "# applying one hot encoding to the training features\n",
    "avocado_x = preprocessor.fit_transform(avocado_x)\n",
    "\n",
    "# apply the same transformation to the test features (but don't fit!)\n",
    "\n",
    "# avocado_test_x = pd.DataFrame(preprocessor.transform(avocado_test_x),\n",
    "#                              index=avocado_test_x.index,\n",
    "#                              columns=avocado_x.columns)"
   ]
  },
  {
   "cell_type": "code",
   "execution_count": 19,
   "metadata": {},
   "outputs": [
    {
     "data": {
      "text/plain": [
       "RandomForestRegressor(bootstrap=True, ccp_alpha=0.0, criterion='mse',\n",
       "                      max_depth=None, max_features='auto', max_leaf_nodes=None,\n",
       "                      max_samples=None, min_impurity_decrease=0.0,\n",
       "                      min_impurity_split=None, min_samples_leaf=1,\n",
       "                      min_samples_split=2, min_weight_fraction_leaf=0.0,\n",
       "                      n_estimators=100, n_jobs=None, oob_score=False,\n",
       "                      random_state=None, verbose=0, warm_start=False)"
      ]
     },
     "execution_count": 19,
     "metadata": {},
     "output_type": "execute_result"
    }
   ],
   "source": [
    "# fit rfr model\n",
    "rfr = RandomForestRegressor()\n",
    "rfr.fit(avocado_x, avocado_y)"
   ]
  },
  {
   "cell_type": "code",
   "execution_count": 20,
   "metadata": {},
   "outputs": [
    {
     "name": "stdout",
     "output_type": "stream",
     "text": [
      "[-0.99710882  0.16182704  0.52131528 -0.19385108  0.17763216]\n",
      "-0.0660370854441678\n",
      "0.5175926113359542\n"
     ]
    }
   ],
   "source": [
    "fold_accuracies = cross_val_score(estimator=rfr, X=avocado_x, y=avocado_y, cv=5)\n",
    "print(fold_accuracies)\n",
    "print(np.mean(fold_accuracies))\n",
    "print(np.std(fold_accuracies))\n",
    "# the standard deviation is much greater than the mean accuracy, \n",
    "# this is probably not a good model..."
   ]
  },
  {
   "cell_type": "code",
   "execution_count": 21,
   "metadata": {},
   "outputs": [
    {
     "data": {
      "text/plain": [
       "RandomizedSearchCV(cv=5, error_score=nan,\n",
       "                   estimator=RandomForestRegressor(bootstrap=True,\n",
       "                                                   ccp_alpha=0.0,\n",
       "                                                   criterion='mse',\n",
       "                                                   max_depth=None,\n",
       "                                                   max_features='auto',\n",
       "                                                   max_leaf_nodes=None,\n",
       "                                                   max_samples=None,\n",
       "                                                   min_impurity_decrease=0.0,\n",
       "                                                   min_impurity_split=None,\n",
       "                                                   min_samples_leaf=1,\n",
       "                                                   min_samples_split=2,\n",
       "                                                   min_weight_fraction_leaf=0.0,\n",
       "                                                   n_estimators=100,\n",
       "                                                   n_jobs=None, oob_score=False,\n",
       "                                                   random_state=None, verbose=0,\n",
       "                                                   warm_start=False),\n",
       "                   iid='deprecated', n_iter=10, n_jobs=None,\n",
       "                   param_distributions={'max_depth': range(1, 20),\n",
       "                                        'n_estimators': range(1, 100)},\n",
       "                   pre_dispatch='2*n_jobs', random_state=None, refit=True,\n",
       "                   return_train_score=False, scoring='neg_mean_squared_error',\n",
       "                   verbose=0)"
      ]
     },
     "execution_count": 21,
     "metadata": {},
     "output_type": "execute_result"
    }
   ],
   "source": [
    "# find optimal hyperparameters\n",
    "\n",
    "rfr_parameters = {'max_depth': range(1, 20),\n",
    "                  'n_estimators': range(1, 100)}\n",
    "\n",
    "random_rfr = RandomizedSearchCV(rfr, rfr_parameters, n_iter=10,\n",
    "             cv=5, scoring='neg_mean_squared_error')\n",
    "\n",
    "random_rfr.fit(avocado_x, avocado_y)"
   ]
  },
  {
   "cell_type": "code",
   "execution_count": 22,
   "metadata": {},
   "outputs": [],
   "source": [
    "features = pd.get_dummies(avocado[['region', 'type', 'month']])\n",
    "feature_list = list(features.columns)"
   ]
  },
  {
   "cell_type": "code",
   "execution_count": 23,
   "metadata": {},
   "outputs": [
    {
     "data": {
      "text/plain": [
       "[('region_Albany', 0.0037480012284520563),\n",
       " ('region_Atlanta', 0.004090309689735909),\n",
       " ('region_BaltimoreWashington', 0.005346279151496791),\n",
       " ('region_Boise', 0.005042642589697402),\n",
       " ('region_Boston', 0.006002577347143965),\n",
       " ('region_BuffaloRochester', 0.0033752913384945313),\n",
       " ('region_California', 0.010965908961202194),\n",
       " ('region_Charlotte', 0.0060603543127698755),\n",
       " ('region_Chicago', 0.006084255012448982),\n",
       " ('region_CincinnatiDayton', 0.004417577482803759),\n",
       " ('region_Columbus', 0.014726094731566905),\n",
       " ('region_DallasFtWorth', 0.006027220205557338),\n",
       " ('region_Denver', 0.0041828767594310435),\n",
       " ('region_Detroit', 0.003576106990033672),\n",
       " ('region_GrandRapids', 0.002218941532252344),\n",
       " ('region_GreatLakes', 0.0035509209437789447),\n",
       " ('region_HarrisburgScranton', 0.03158065434778951),\n",
       " ('region_HartfordSpringfield', 0.018350575895272194),\n",
       " ('region_Houston', 0.0025961573059661534),\n",
       " ('region_Indianapolis', 0.005038896901106402),\n",
       " ('region_Jacksonville', 0.007683326499878723),\n",
       " ('region_LasVegas', 0.006792817835093946),\n",
       " ('region_LosAngeles', 0.0034101135944771366),\n",
       " ('region_Louisville', 0.002799480865042134),\n",
       " ('region_MiamiFtLauderdale', 0.0010691230542965405),\n",
       " ('region_Midsouth', 0.005640808198059468),\n",
       " ('region_Nashville', 0.002716771707446136),\n",
       " ('region_NewOrleansMobile', 0.019364256528970707),\n",
       " ('region_NewYork', 0.008323897071694477),\n",
       " ('region_Northeast', 0.0027385425992223476),\n",
       " ('region_NorthernNewEngland', 0.0037254121041727737),\n",
       " ('region_Orlando', 0.009329853519904641),\n",
       " ('region_Philadelphia', 0.01770841526543944),\n",
       " ('region_PhoenixTucson', 0.003215940650680098),\n",
       " ('region_Pittsburgh', 0.001528295021387822),\n",
       " ('region_Plains', 0.004886615345762003),\n",
       " ('region_Portland', 0.00731829195315718),\n",
       " ('region_RaleighGreensboro', 0.0027020369859653112),\n",
       " ('region_RichmondNorfolk', 0.005377545813603514),\n",
       " ('region_Roanoke', 0.010487968621789662),\n",
       " ('region_Sacramento', 0.005057140980307962),\n",
       " ('region_SanDiego', 0.030916814447870155),\n",
       " ('region_SanFrancisco', 0.0055267173093218065),\n",
       " ('region_Seattle', 0.00165363173820219),\n",
       " ('region_SouthCarolina', 0.013497855849369944),\n",
       " ('region_SouthCentral', 0.0013900960671409468),\n",
       " ('region_Southeast', 0.006320446851306972),\n",
       " ('region_Spokane', 0.003148402755809953),\n",
       " ('region_StLouis', 0.005300158999902817),\n",
       " ('region_Syracuse', 0.0023498845632126944),\n",
       " ('region_Tampa', 0.00226984438315614),\n",
       " ('region_TotalUS', 0.004726098474324509),\n",
       " ('region_West', 0.01230533423162744),\n",
       " ('region_WestTexNewMexico', 0.5155929305696153),\n",
       " ('type_conventional', 0.014487170891156797),\n",
       " ('type_organic', 0.005953274067157483),\n",
       " ('month_Jan', 0.00976326085369701),\n",
       " ('month_Feb', 0.00710997263792442),\n",
       " ('month_Mar', 0.008226548078765277),\n",
       " ('month_Apr', 0.005784468467558296),\n",
       " ('month_May', 0.0051056821848523455),\n",
       " ('month_Jun', 0.005283376771804892),\n",
       " ('month_Jul', 0.00826603894684678),\n",
       " ('month_Aug', 0.026052547903311043),\n",
       " ('month_Sep', 0.020111146012712872)]"
      ]
     },
     "execution_count": 23,
     "metadata": {},
     "output_type": "execute_result"
    }
   ],
   "source": [
    "list(zip(feature_list, rfr.feature_importances_))"
   ]
  },
  {
   "cell_type": "code",
   "execution_count": 24,
   "metadata": {},
   "outputs": [
    {
     "data": {
      "text/plain": [
       "0.7098740329320563"
      ]
     },
     "execution_count": 24,
     "metadata": {},
     "output_type": "execute_result"
    }
   ],
   "source": [
    "rfr.score(avocado_x, avocado_y)"
   ]
  },
  {
   "cell_type": "code",
   "execution_count": 25,
   "metadata": {},
   "outputs": [
    {
     "data": {
      "text/plain": [
       "LinearRegression(copy_X=True, fit_intercept=True, n_jobs=None, normalize=False)"
      ]
     },
     "execution_count": 25,
     "metadata": {},
     "output_type": "execute_result"
    }
   ],
   "source": [
    "lr = LinearRegression()\n",
    "lr.fit(avocado_x, avocado_y)"
   ]
  },
  {
   "cell_type": "code",
   "execution_count": 26,
   "metadata": {},
   "outputs": [
    {
     "data": {
      "text/plain": [
       "0.6093976419611092"
      ]
     },
     "execution_count": 26,
     "metadata": {},
     "output_type": "execute_result"
    }
   ],
   "source": [
    "lr.score(avocado_x, avocado_y)"
   ]
  },
  {
   "cell_type": "code",
   "execution_count": 27,
   "metadata": {},
   "outputs": [
    {
     "data": {
      "text/plain": [
       "[('region_Albany', -0.21956689704181856),\n",
       " ('region_Atlanta', -0.02063048139350373),\n",
       " ('region_BaltimoreWashington', -0.2252418053543965),\n",
       " ('region_Boise', -0.03542732401517944),\n",
       " ('region_Boston', -0.04607431124402879),\n",
       " ('region_BuffaloRochester', -0.16470506225733672),\n",
       " ('region_California', 0.06159784503280273),\n",
       " ('region_Charlotte', 5.4598699459447435e-05),\n",
       " ('region_Chicago', -0.35467143646478966),\n",
       " ('region_CincinnatiDayton', -0.3076291833538522),\n",
       " ('region_Columbus', -0.47154125332270175),\n",
       " ('region_DallasFtWorth', -0.33197930758110905),\n",
       " ('region_Denver', -0.27899749448048494),\n",
       " ('region_Detroit', -0.059215353412605545),\n",
       " ('region_GrandRapids', -0.21923596071127344),\n",
       " ('region_GreatLakes', -0.05203421669515846),\n",
       " ('region_HarrisburgScranton', 0.2673703795934898),\n",
       " ('region_HartfordSpringfield', -0.5060012988056523),\n",
       " ('region_Houston', -0.2397526611836631),\n",
       " ('region_Indianapolis', -0.04520831253474802),\n",
       " ('region_Jacksonville', -0.1752177232435257),\n",
       " ('region_LasVegas', -0.33646253170748563),\n",
       " ('region_LosAngeles', -0.2641920043693781),\n",
       " ('region_Louisville', -0.13123323697599215),\n",
       " ('region_MiamiFtLauderdale', -0.15409259705619768),\n",
       " ('region_Midsouth', -0.34078801057792296),\n",
       " ('region_Nashville', -0.2621321634413656),\n",
       " ('region_NewOrleansMobile', 0.1743748596500321),\n",
       " ('region_NewYork', 0.04854142506446322),\n",
       " ('region_Northeast', -0.07775838369603523),\n",
       " ('region_NorthernNewEngland', -0.04078067363080024),\n",
       " ('region_Orlando', 0.0648270761967667),\n",
       " ('region_Philadelphia', -0.34991151525540565),\n",
       " ('region_PhoenixTucson', -0.19739305944519855),\n",
       " ('region_Pittsburgh', -0.12368913479751656),\n",
       " ('region_Plains', -0.24443430099082109),\n",
       " ('region_Portland', 0.005311769542557854),\n",
       " ('region_RaleighGreensboro', -0.2617904171097847),\n",
       " ('region_RichmondNorfolk', -0.3195858191085861),\n",
       " ('region_Roanoke', 0.05470175236996186),\n",
       " ('region_Sacramento', -0.15597091719924341),\n",
       " ('region_SanDiego', 0.24512048554978674),\n",
       " ('region_SanFrancisco', -0.10765300080823166),\n",
       " ('region_Seattle', -0.1532412916888674),\n",
       " ('region_SouthCarolina', -0.45736413224496625),\n",
       " ('region_SouthCentral', -0.15925300607949694),\n",
       " ('region_Southeast', -0.1134375296857713),\n",
       " ('region_Spokane', -0.13235579660676447),\n",
       " ('region_StLouis', -0.04238851534121902),\n",
       " ('region_Syracuse', -0.15181516581728124),\n",
       " ('region_Tampa', -0.24294355945884827),\n",
       " ('region_TotalUS', -0.28516110783952914),\n",
       " ('region_West', -0.2991525617796685),\n",
       " ('region_WestTexNewMexico', 0.49476816816881747),\n",
       " ('type_conventional', 0.14150564130581486),\n",
       " ('type_organic', -0.043907250319354614),\n",
       " ('month_Jan', -0.09466892417971139),\n",
       " ('month_Feb', -0.0616528511653295),\n",
       " ('month_Mar', 0.08347447023673023),\n",
       " ('month_Apr', 0.03072955078153753),\n",
       " ('month_May', -0.04691256969717616),\n",
       " ('month_Jun', -0.024912869536821758),\n",
       " ('month_Jul', 0.0791974380603172),\n",
       " ('month_Aug', 0.20582384804293005),\n",
       " ('month_Sep', 0.19693437201247252)]"
      ]
     },
     "execution_count": 27,
     "metadata": {},
     "output_type": "execute_result"
    }
   ],
   "source": [
    "list(zip(feature_list, lr.coef_))"
   ]
  },
  {
   "cell_type": "code",
   "execution_count": null,
   "metadata": {},
   "outputs": [],
   "source": []
  }
 ],
 "metadata": {
  "kernelspec": {
   "display_name": "Python 3",
   "language": "python",
   "name": "python3"
  },
  "language_info": {
   "codemirror_mode": {
    "name": "ipython",
    "version": 3
   },
   "file_extension": ".py",
   "mimetype": "text/x-python",
   "name": "python",
   "nbconvert_exporter": "python",
   "pygments_lexer": "ipython3",
   "version": "3.7.4"
  }
 },
 "nbformat": 4,
 "nbformat_minor": 2
}
