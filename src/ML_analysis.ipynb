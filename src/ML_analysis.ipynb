{
 "cells": [
  {
   "cell_type": "code",
   "execution_count": 110,
   "metadata": {},
   "outputs": [
    {
     "data": {
      "text/plain": [
       "RendererRegistry.enable('notebook')"
      ]
     },
     "execution_count": 110,
     "metadata": {},
     "output_type": "execute_result"
    }
   ],
   "source": [
    "import pandas as pd  \n",
    "import numpy as np\n",
    "from sklearn.ensemble import RandomForestRegressor\n",
    "from sklearn.preprocessing import OneHotEncoder, StandardScaler\n",
    "from sklearn.compose import ColumnTransformer\n",
    "from sklearn.model_selection import RandomizedSearchCV, cross_val_score, GridSearchCV\n",
    "import altair as alt\n",
    "from sklearn.linear_model import LinearRegression, Lasso, Ridge\n",
    "from sklearn.model_selection import train_test_split\n",
    "from pyarrow import feather\n",
    "\n",
    "import os.path\n",
    "from os import path\n",
    "alt.renderers.enable('notebook')"
   ]
  },
  {
   "cell_type": "code",
   "execution_count": 73,
   "metadata": {},
   "outputs": [
    {
     "ename": "SyntaxError",
     "evalue": "invalid syntax (<ipython-input-73-5cb7e2fa6aac>, line 1)",
     "output_type": "error",
     "traceback": [
      "\u001b[0;36m  File \u001b[0;32m\"<ipython-input-73-5cb7e2fa6aac>\"\u001b[0;36m, line \u001b[0;32m1\u001b[0m\n\u001b[0;31m    assert path.exists(../data/train.feather) == True, \"Input file does not exist\"\u001b[0m\n\u001b[0m                       ^\u001b[0m\n\u001b[0;31mSyntaxError\u001b[0m\u001b[0;31m:\u001b[0m invalid syntax\n"
     ]
    }
   ],
   "source": [
    "assert path.exists(\"../data/train.feather\") == True, \"Input file does not exist\""
   ]
  },
  {
   "cell_type": "code",
   "execution_count": 2,
   "metadata": {},
   "outputs": [
    {
     "data": {
      "text/html": [
       "<div>\n",
       "<style scoped>\n",
       "    .dataframe tbody tr th:only-of-type {\n",
       "        vertical-align: middle;\n",
       "    }\n",
       "\n",
       "    .dataframe tbody tr th {\n",
       "        vertical-align: top;\n",
       "    }\n",
       "\n",
       "    .dataframe thead th {\n",
       "        text-align: right;\n",
       "    }\n",
       "</style>\n",
       "<table border=\"1\" class=\"dataframe\">\n",
       "  <thead>\n",
       "    <tr style=\"text-align: right;\">\n",
       "      <th></th>\n",
       "      <th>X1</th>\n",
       "      <th>date</th>\n",
       "      <th>average_price</th>\n",
       "      <th>total_volume</th>\n",
       "      <th>PLU_4046</th>\n",
       "      <th>PLU_4225</th>\n",
       "      <th>PLU_4770</th>\n",
       "      <th>total_bags</th>\n",
       "      <th>small_bags</th>\n",
       "      <th>large_bags</th>\n",
       "      <th>xlarge_bags</th>\n",
       "      <th>type</th>\n",
       "      <th>year</th>\n",
       "      <th>region</th>\n",
       "      <th>month</th>\n",
       "      <th>year_month</th>\n",
       "      <th>lat</th>\n",
       "      <th>lon</th>\n",
       "      <th>season</th>\n",
       "    </tr>\n",
       "  </thead>\n",
       "  <tbody>\n",
       "    <tr>\n",
       "      <td>0</td>\n",
       "      <td>0.0</td>\n",
       "      <td>2015-12-27</td>\n",
       "      <td>1.33</td>\n",
       "      <td>64236.62</td>\n",
       "      <td>1036.74</td>\n",
       "      <td>54454.85</td>\n",
       "      <td>48.16</td>\n",
       "      <td>8696.87</td>\n",
       "      <td>8603.62</td>\n",
       "      <td>93.25</td>\n",
       "      <td>0.0</td>\n",
       "      <td>conventional</td>\n",
       "      <td>2015.0</td>\n",
       "      <td>Albany</td>\n",
       "      <td>Dec</td>\n",
       "      <td>2015-12</td>\n",
       "      <td>42.65258</td>\n",
       "      <td>-73.756233</td>\n",
       "      <td>Winter</td>\n",
       "    </tr>\n",
       "    <tr>\n",
       "      <td>1</td>\n",
       "      <td>1.0</td>\n",
       "      <td>2015-12-20</td>\n",
       "      <td>1.35</td>\n",
       "      <td>54876.98</td>\n",
       "      <td>674.28</td>\n",
       "      <td>44638.81</td>\n",
       "      <td>58.33</td>\n",
       "      <td>9505.56</td>\n",
       "      <td>9408.07</td>\n",
       "      <td>97.49</td>\n",
       "      <td>0.0</td>\n",
       "      <td>conventional</td>\n",
       "      <td>2015.0</td>\n",
       "      <td>Albany</td>\n",
       "      <td>Dec</td>\n",
       "      <td>2015-12</td>\n",
       "      <td>42.65258</td>\n",
       "      <td>-73.756233</td>\n",
       "      <td>Winter</td>\n",
       "    </tr>\n",
       "    <tr>\n",
       "      <td>2</td>\n",
       "      <td>2.0</td>\n",
       "      <td>2015-12-13</td>\n",
       "      <td>0.93</td>\n",
       "      <td>118220.22</td>\n",
       "      <td>794.70</td>\n",
       "      <td>109149.67</td>\n",
       "      <td>130.50</td>\n",
       "      <td>8145.35</td>\n",
       "      <td>8042.21</td>\n",
       "      <td>103.14</td>\n",
       "      <td>0.0</td>\n",
       "      <td>conventional</td>\n",
       "      <td>2015.0</td>\n",
       "      <td>Albany</td>\n",
       "      <td>Dec</td>\n",
       "      <td>2015-12</td>\n",
       "      <td>42.65258</td>\n",
       "      <td>-73.756233</td>\n",
       "      <td>Winter</td>\n",
       "    </tr>\n",
       "    <tr>\n",
       "      <td>3</td>\n",
       "      <td>3.0</td>\n",
       "      <td>2015-12-06</td>\n",
       "      <td>1.08</td>\n",
       "      <td>78992.15</td>\n",
       "      <td>1132.00</td>\n",
       "      <td>71976.41</td>\n",
       "      <td>72.58</td>\n",
       "      <td>5811.16</td>\n",
       "      <td>5677.40</td>\n",
       "      <td>133.76</td>\n",
       "      <td>0.0</td>\n",
       "      <td>conventional</td>\n",
       "      <td>2015.0</td>\n",
       "      <td>Albany</td>\n",
       "      <td>Dec</td>\n",
       "      <td>2015-12</td>\n",
       "      <td>42.65258</td>\n",
       "      <td>-73.756233</td>\n",
       "      <td>Winter</td>\n",
       "    </tr>\n",
       "    <tr>\n",
       "      <td>4</td>\n",
       "      <td>4.0</td>\n",
       "      <td>2015-11-29</td>\n",
       "      <td>1.28</td>\n",
       "      <td>51039.60</td>\n",
       "      <td>941.48</td>\n",
       "      <td>43838.39</td>\n",
       "      <td>75.78</td>\n",
       "      <td>6183.95</td>\n",
       "      <td>5986.26</td>\n",
       "      <td>197.69</td>\n",
       "      <td>0.0</td>\n",
       "      <td>conventional</td>\n",
       "      <td>2015.0</td>\n",
       "      <td>Albany</td>\n",
       "      <td>Nov</td>\n",
       "      <td>2015-11</td>\n",
       "      <td>42.65258</td>\n",
       "      <td>-73.756233</td>\n",
       "      <td>Fall</td>\n",
       "    </tr>\n",
       "  </tbody>\n",
       "</table>\n",
       "</div>"
      ],
      "text/plain": [
       "    X1        date  average_price  total_volume  PLU_4046   PLU_4225  \\\n",
       "0  0.0  2015-12-27           1.33      64236.62   1036.74   54454.85   \n",
       "1  1.0  2015-12-20           1.35      54876.98    674.28   44638.81   \n",
       "2  2.0  2015-12-13           0.93     118220.22    794.70  109149.67   \n",
       "3  3.0  2015-12-06           1.08      78992.15   1132.00   71976.41   \n",
       "4  4.0  2015-11-29           1.28      51039.60    941.48   43838.39   \n",
       "\n",
       "   PLU_4770  total_bags  small_bags  large_bags  xlarge_bags          type  \\\n",
       "0     48.16     8696.87     8603.62       93.25          0.0  conventional   \n",
       "1     58.33     9505.56     9408.07       97.49          0.0  conventional   \n",
       "2    130.50     8145.35     8042.21      103.14          0.0  conventional   \n",
       "3     72.58     5811.16     5677.40      133.76          0.0  conventional   \n",
       "4     75.78     6183.95     5986.26      197.69          0.0  conventional   \n",
       "\n",
       "     year  region month year_month       lat        lon  season  \n",
       "0  2015.0  Albany   Dec    2015-12  42.65258 -73.756233  Winter  \n",
       "1  2015.0  Albany   Dec    2015-12  42.65258 -73.756233  Winter  \n",
       "2  2015.0  Albany   Dec    2015-12  42.65258 -73.756233  Winter  \n",
       "3  2015.0  Albany   Dec    2015-12  42.65258 -73.756233  Winter  \n",
       "4  2015.0  Albany   Nov    2015-11  42.65258 -73.756233    Fall  "
      ]
     },
     "execution_count": 2,
     "metadata": {},
     "output_type": "execute_result"
    }
   ],
   "source": [
    "# load in feather datasets \n",
    "# training dataset\n",
    "avocado = pd.read_feather(\"../data/train.feather\")\n",
    "avocado.head()\n",
    "# test dataset\n",
    "# avocado_test = pd.read_feather(\"test.feather\")\n",
    "# avocado_test.head()"
   ]
  },
  {
   "cell_type": "code",
   "execution_count": 3,
   "metadata": {},
   "outputs": [
    {
     "data": {
      "text/plain": [
       "Index(['X1', 'date', 'average_price', 'total_volume', 'PLU_4046', 'PLU_4225',\n",
       "       'PLU_4770', 'total_bags', 'small_bags', 'large_bags', 'xlarge_bags',\n",
       "       'type', 'year', 'region', 'month', 'year_month', 'lat', 'lon',\n",
       "       'season'],\n",
       "      dtype='object')"
      ]
     },
     "execution_count": 3,
     "metadata": {},
     "output_type": "execute_result"
    }
   ],
   "source": [
    "# Which features do we want to keep?\n",
    "avocado.columns\n",
    "# want season, lat, lon, and type as our features"
   ]
  },
  {
   "cell_type": "code",
   "execution_count": 89,
   "metadata": {},
   "outputs": [],
   "source": [
    "# Split the data into target and features\n",
    "avocado_x = avocado[['lat', 'lon', 'type', 'season']]\n",
    "avocado_y = avocado['average_price']\n",
    "\n",
    "# avocado_test_x = avocado_test[['region', 'type', 'month']]\n",
    "# avocado_test_y = avocado['AveragePrice']\n",
    "\n",
    "# Scale the numerical features (don't need for rfr, but can't hurt)\n",
    "numeric_features = ['lat', 'lon']\n",
    "\n",
    "# need to convert categorical to numerical using one-hot-encoding\n",
    "categorical_features = ['type', 'season']\n",
    "\n",
    "preprocessor = ColumnTransformer(transformers=[\n",
    "    ('scaler', StandardScaler(), numeric_features),\n",
    "    ('ohe', OneHotEncoder(), categorical_features)\n",
    "])\n",
    "\n",
    "# applying one hot encoding to the training features\n",
    "avocado_x = pd.DataFrame(preprocessor.fit_transform(avocado_x),\n",
    "                         index=avocado_x.index,\n",
    "                         columns = (numeric_features +\n",
    "                                   list(preprocessor.named_transformers_['ohe']\n",
    "                                       .get_feature_names(categorical_features))))\n",
    "\n",
    "# apply the same transformation to the test features (but don't fit!)\n",
    "\n",
    "# avocado_test_x = pd.DataFrame(preprocessor.transform(avocado_test_x),\n",
    "#                              index=avocado_test_x.index,\n",
    "#                              columns=avocado_x.columns)"
   ]
  },
  {
   "cell_type": "code",
   "execution_count": 95,
   "metadata": {},
   "outputs": [],
   "source": [
    "assert len(avocado_x.columns) == 8"
   ]
  },
  {
   "cell_type": "code",
   "execution_count": 9,
   "metadata": {},
   "outputs": [
    {
     "data": {
      "text/plain": [
       "RandomForestRegressor(bootstrap=True, ccp_alpha=0.0, criterion='mse',\n",
       "                      max_depth=None, max_features='auto', max_leaf_nodes=None,\n",
       "                      max_samples=None, min_impurity_decrease=0.0,\n",
       "                      min_impurity_split=None, min_samples_leaf=1,\n",
       "                      min_samples_split=2, min_weight_fraction_leaf=0.0,\n",
       "                      n_estimators=100, n_jobs=None, oob_score=False,\n",
       "                      random_state=123, verbose=0, warm_start=False)"
      ]
     },
     "execution_count": 9,
     "metadata": {},
     "output_type": "execute_result"
    }
   ],
   "source": [
    "# fit rfr model\n",
    "rfr = RandomForestRegressor(random_state=123)\n",
    "rfr.fit(avocado_x, avocado_y)"
   ]
  },
  {
   "cell_type": "code",
   "execution_count": 10,
   "metadata": {},
   "outputs": [
    {
     "name": "stdout",
     "output_type": "stream",
     "text": [
      "[-0.71236607  0.17668574  0.52865414 -0.05899086  0.1797582 ]\n",
      "0.022748230814118343\n",
      "0.41264124553151404\n"
     ]
    }
   ],
   "source": [
    "fold_accuracies = cross_val_score(estimator=rfr, X=avocado_x, y=avocado_y, cv=5)\n",
    "print(fold_accuracies)\n",
    "print(np.mean(fold_accuracies))\n",
    "print(np.std(fold_accuracies))\n",
    "# the standard deviation is much greater than the mean accuracy, \n",
    "# this is probably not a good model..."
   ]
  },
  {
   "cell_type": "code",
   "execution_count": 11,
   "metadata": {},
   "outputs": [
    {
     "data": {
      "text/plain": [
       "{'n_estimators': 11, 'max_depth': 6}"
      ]
     },
     "execution_count": 11,
     "metadata": {},
     "output_type": "execute_result"
    }
   ],
   "source": [
    "# find optimal hyperparameters\n",
    "\n",
    "rfr_parameters = {'max_depth': range(1, 20),\n",
    "                  'n_estimators': range(1, 100)}\n",
    "\n",
    "random_rfr = RandomizedSearchCV(rfr, rfr_parameters, n_iter=10,\n",
    "             cv=5)\n",
    "\n",
    "random_rfr.fit(avocado_x, avocado_y).best_params_"
   ]
  },
  {
   "cell_type": "code",
   "execution_count": 96,
   "metadata": {},
   "outputs": [],
   "source": [
    "fold_accuracies = cross_val_score(estimator=random_rfr, X=avocado_x, y=avocado_y, cv=5)\n",
    "cv_scores = pd.DataFrame({'Fold': [1, 2, 3, 4, 5],\n",
    "                  'Negative_Mean_Squared_Error': fold_accuracies})\n",
    "#for i in range(5):\n",
    "#    cv_scores_dict('Fold')[i] = \n",
    "\n",
    "#print(fold_accuracies)\n",
    "#print(np.mean(fold_accuracies))\n",
    "#print(np.std(fold_accuracies))\n",
    "# The standard error is much more reasonable here"
   ]
  },
  {
   "cell_type": "code",
   "execution_count": 97,
   "metadata": {},
   "outputs": [
    {
     "data": {
      "text/html": [
       "<div>\n",
       "<style scoped>\n",
       "    .dataframe tbody tr th:only-of-type {\n",
       "        vertical-align: middle;\n",
       "    }\n",
       "\n",
       "    .dataframe tbody tr th {\n",
       "        vertical-align: top;\n",
       "    }\n",
       "\n",
       "    .dataframe thead th {\n",
       "        text-align: right;\n",
       "    }\n",
       "</style>\n",
       "<table border=\"1\" class=\"dataframe\">\n",
       "  <thead>\n",
       "    <tr style=\"text-align: right;\">\n",
       "      <th></th>\n",
       "      <th>Fold</th>\n",
       "      <th>Negative_Mean_Squared_Error</th>\n",
       "    </tr>\n",
       "  </thead>\n",
       "  <tbody>\n",
       "    <tr>\n",
       "      <td>0</td>\n",
       "      <td>1</td>\n",
       "      <td>-0.450003</td>\n",
       "    </tr>\n",
       "    <tr>\n",
       "      <td>1</td>\n",
       "      <td>2</td>\n",
       "      <td>0.226095</td>\n",
       "    </tr>\n",
       "    <tr>\n",
       "      <td>2</td>\n",
       "      <td>3</td>\n",
       "      <td>0.550056</td>\n",
       "    </tr>\n",
       "    <tr>\n",
       "      <td>3</td>\n",
       "      <td>4</td>\n",
       "      <td>0.067301</td>\n",
       "    </tr>\n",
       "    <tr>\n",
       "      <td>4</td>\n",
       "      <td>5</td>\n",
       "      <td>0.196439</td>\n",
       "    </tr>\n",
       "  </tbody>\n",
       "</table>\n",
       "</div>"
      ],
      "text/plain": [
       "   Fold  Negative_Mean_Squared_Error\n",
       "0     1                    -0.450003\n",
       "1     2                     0.226095\n",
       "2     3                     0.550056\n",
       "3     4                     0.067301\n",
       "4     5                     0.196439"
      ]
     },
     "execution_count": 97,
     "metadata": {},
     "output_type": "execute_result"
    }
   ],
   "source": [
    "cv_scores"
   ]
  },
  {
   "cell_type": "code",
   "execution_count": 103,
   "metadata": {},
   "outputs": [],
   "source": [
    "assert cv_scores['Negative_Mean_Squared_Error'].all() != 0"
   ]
  },
  {
   "cell_type": "code",
   "execution_count": 17,
   "metadata": {},
   "outputs": [
    {
     "data": {
      "text/plain": [
       "0.07922184245129786"
      ]
     },
     "execution_count": 17,
     "metadata": {},
     "output_type": "execute_result"
    }
   ],
   "source": [
    "np.mean(cv_scores_dict['Negative_Mean_Squared_Error'])"
   ]
  },
  {
   "cell_type": "code",
   "execution_count": 20,
   "metadata": {},
   "outputs": [],
   "source": [
    "feature_list = list(avocado_x.columns)"
   ]
  },
  {
   "cell_type": "code",
   "execution_count": 21,
   "metadata": {},
   "outputs": [],
   "source": [
    "feature_df = pd.DataFrame({\"feature_names\": feature_list,\n",
    "             \"importance\": random_rfr.best_estimator_.feature_importances_})"
   ]
  },
  {
   "cell_type": "code",
   "execution_count": 22,
   "metadata": {},
   "outputs": [],
   "source": [
    "feature_df.sort_values([\"importance\"], ascending=False, inplace=True)"
   ]
  },
  {
   "cell_type": "code",
   "execution_count": 23,
   "metadata": {},
   "outputs": [],
   "source": [
    "feature_df.reset_index(drop=True, inplace=True)"
   ]
  },
  {
   "cell_type": "code",
   "execution_count": 25,
   "metadata": {},
   "outputs": [
    {
     "data": {
      "text/html": [
       "<div>\n",
       "<style scoped>\n",
       "    .dataframe tbody tr th:only-of-type {\n",
       "        vertical-align: middle;\n",
       "    }\n",
       "\n",
       "    .dataframe tbody tr th {\n",
       "        vertical-align: top;\n",
       "    }\n",
       "\n",
       "    .dataframe thead th {\n",
       "        text-align: right;\n",
       "    }\n",
       "</style>\n",
       "<table border=\"1\" class=\"dataframe\">\n",
       "  <thead>\n",
       "    <tr style=\"text-align: right;\">\n",
       "      <th></th>\n",
       "      <th>feature_names</th>\n",
       "      <th>importance</th>\n",
       "    </tr>\n",
       "  </thead>\n",
       "  <tbody>\n",
       "    <tr>\n",
       "      <td>0</td>\n",
       "      <td>type_conventional</td>\n",
       "      <td>0.350526</td>\n",
       "    </tr>\n",
       "    <tr>\n",
       "      <td>1</td>\n",
       "      <td>type_organic</td>\n",
       "      <td>0.293888</td>\n",
       "    </tr>\n",
       "    <tr>\n",
       "      <td>2</td>\n",
       "      <td>lon</td>\n",
       "      <td>0.189785</td>\n",
       "    </tr>\n",
       "    <tr>\n",
       "      <td>3</td>\n",
       "      <td>lat</td>\n",
       "      <td>0.073527</td>\n",
       "    </tr>\n",
       "    <tr>\n",
       "      <td>4</td>\n",
       "      <td>season_Fall</td>\n",
       "      <td>0.053350</td>\n",
       "    </tr>\n",
       "    <tr>\n",
       "      <td>5</td>\n",
       "      <td>season_Summer</td>\n",
       "      <td>0.025495</td>\n",
       "    </tr>\n",
       "    <tr>\n",
       "      <td>6</td>\n",
       "      <td>season_Winter</td>\n",
       "      <td>0.011123</td>\n",
       "    </tr>\n",
       "    <tr>\n",
       "      <td>7</td>\n",
       "      <td>season_Spring</td>\n",
       "      <td>0.002306</td>\n",
       "    </tr>\n",
       "  </tbody>\n",
       "</table>\n",
       "</div>"
      ],
      "text/plain": [
       "       feature_names  importance\n",
       "0  type_conventional    0.350526\n",
       "1       type_organic    0.293888\n",
       "2                lon    0.189785\n",
       "3                lat    0.073527\n",
       "4        season_Fall    0.053350\n",
       "5      season_Summer    0.025495\n",
       "6      season_Winter    0.011123\n",
       "7      season_Spring    0.002306"
      ]
     },
     "execution_count": 25,
     "metadata": {},
     "output_type": "execute_result"
    }
   ],
   "source": [
    "feature_df"
   ]
  },
  {
   "cell_type": "code",
   "execution_count": 141,
   "metadata": {},
   "outputs": [],
   "source": [
    "rfr_plot = alt.Chart(feature_df).mark_bar(color=\"red\", opacity=0.6).encode(\n",
    "    x= alt.X(\"feature_names:N\",\n",
    "             sort=alt.SortField(field='importance:Q'),\n",
    "             title=\"Features\"),\n",
    "    y = alt.Y(\"importance:Q\", title=\"Feature Importance\")\n",
    ").properties(title=\"Random Forest Regression\",\n",
    "             width=350)"
   ]
  },
  {
   "cell_type": "code",
   "execution_count": 26,
   "metadata": {},
   "outputs": [
    {
     "data": {
      "text/plain": [
       "0.6681831284194752"
      ]
     },
     "execution_count": 26,
     "metadata": {},
     "output_type": "execute_result"
    }
   ],
   "source": [
    "rfr.score(avocado_x, avocado_y)"
   ]
  },
  {
   "cell_type": "code",
   "execution_count": 55,
   "metadata": {},
   "outputs": [
    {
     "data": {
      "text/plain": [
       "Lasso(alpha=335, copy_X=True, fit_intercept=True, max_iter=1000,\n",
       "      normalize=False, positive=False, precompute=False, random_state=None,\n",
       "      selection='cyclic', tol=0.0001, warm_start=False)"
      ]
     },
     "execution_count": 55,
     "metadata": {},
     "output_type": "execute_result"
    }
   ],
   "source": [
    "lr = Lasso()\n",
    "\n",
    "param_grid = {\"alpha\": [i for i in range(0, 1000, 1)]}\n",
    "\n",
    "lr_rs = RandomizedSearchCV(lr, param_grid, cv=5).fit(avocado_x, avocado_y)\n",
    "\n",
    "lr_rs.best_params_\n",
    "\n",
    "lr2 = Lasso(alpha=335)\n",
    "\n",
    "lr2.fit(avocado_x, avocado_y)\n",
    "\n",
    "#lr.fit(avocado_x, avocado_y)"
   ]
  },
  {
   "cell_type": "code",
   "execution_count": 56,
   "metadata": {},
   "outputs": [
    {
     "data": {
      "text/html": [
       "<div>\n",
       "<style scoped>\n",
       "    .dataframe tbody tr th:only-of-type {\n",
       "        vertical-align: middle;\n",
       "    }\n",
       "\n",
       "    .dataframe tbody tr th {\n",
       "        vertical-align: top;\n",
       "    }\n",
       "\n",
       "    .dataframe thead th {\n",
       "        text-align: right;\n",
       "    }\n",
       "</style>\n",
       "<table border=\"1\" class=\"dataframe\">\n",
       "  <thead>\n",
       "    <tr style=\"text-align: right;\">\n",
       "      <th></th>\n",
       "      <th>Fold</th>\n",
       "      <th>Negative_Mean_Squared_Error</th>\n",
       "    </tr>\n",
       "  </thead>\n",
       "  <tbody>\n",
       "    <tr>\n",
       "      <td>0</td>\n",
       "      <td>1</td>\n",
       "      <td>-3.982792</td>\n",
       "    </tr>\n",
       "    <tr>\n",
       "      <td>1</td>\n",
       "      <td>2</td>\n",
       "      <td>-0.830008</td>\n",
       "    </tr>\n",
       "    <tr>\n",
       "      <td>2</td>\n",
       "      <td>3</td>\n",
       "      <td>-0.023900</td>\n",
       "    </tr>\n",
       "    <tr>\n",
       "      <td>3</td>\n",
       "      <td>4</td>\n",
       "      <td>-0.480140</td>\n",
       "    </tr>\n",
       "    <tr>\n",
       "      <td>4</td>\n",
       "      <td>5</td>\n",
       "      <td>-0.776321</td>\n",
       "    </tr>\n",
       "  </tbody>\n",
       "</table>\n",
       "</div>"
      ],
      "text/plain": [
       "   Fold  Negative_Mean_Squared_Error\n",
       "0     1                    -3.982792\n",
       "1     2                    -0.830008\n",
       "2     3                    -0.023900\n",
       "3     4                    -0.480140\n",
       "4     5                    -0.776321"
      ]
     },
     "execution_count": 56,
     "metadata": {},
     "output_type": "execute_result"
    }
   ],
   "source": [
    "fold_accuracies_lr = cross_val_score(estimator=lr2, X=avocado_x, y=avocado_y, cv=5)\n",
    "cv_scores_dict_lr = {'Fold': [1, 2, 3, 4, 5],\n",
    "                  'Negative_Mean_Squared_Error': fold_accuracies_lr}\n",
    "pd.DataFrame(cv_scores_dict_lr)"
   ]
  },
  {
   "cell_type": "code",
   "execution_count": 57,
   "metadata": {},
   "outputs": [
    {
     "data": {
      "text/plain": [
       "-1.2186321376728722"
      ]
     },
     "execution_count": 57,
     "metadata": {},
     "output_type": "execute_result"
    }
   ],
   "source": [
    "np.mean(cv_scores_dict_lr['Negative_Mean_Squared_Error'])"
   ]
  },
  {
   "cell_type": "code",
   "execution_count": 58,
   "metadata": {},
   "outputs": [
    {
     "data": {
      "text/plain": [
       "0.0"
      ]
     },
     "execution_count": 58,
     "metadata": {},
     "output_type": "execute_result"
    }
   ],
   "source": [
    "lr2.score(avocado_x, avocado_y)"
   ]
  },
  {
   "cell_type": "code",
   "execution_count": 59,
   "metadata": {},
   "outputs": [
    {
     "data": {
      "text/plain": [
       "[('lat', 0.0),\n",
       " ('lon', 0.0),\n",
       " ('type_conventional', -0.0),\n",
       " ('type_organic', 0.0),\n",
       " ('season_Fall', 0.0),\n",
       " ('season_Spring', -0.0),\n",
       " ('season_Summer', 0.0),\n",
       " ('season_Winter', -0.0)]"
      ]
     },
     "execution_count": 59,
     "metadata": {},
     "output_type": "execute_result"
    }
   ],
   "source": [
    "list(zip(feature_list, lr2.coef_))"
   ]
  },
  {
   "cell_type": "markdown",
   "metadata": {},
   "source": [
    "Now try L2 regularization"
   ]
  },
  {
   "cell_type": "code",
   "execution_count": 121,
   "metadata": {},
   "outputs": [
    {
     "data": {
      "text/plain": [
       "Ridge(alpha=17, copy_X=True, fit_intercept=True, max_iter=None, normalize=False,\n",
       "      random_state=None, solver='auto', tol=0.001)"
      ]
     },
     "execution_count": 121,
     "metadata": {},
     "output_type": "execute_result"
    }
   ],
   "source": [
    "\n",
    "r = Ridge()\n",
    "\n",
    "param_grid = {\"alpha\": [i for i in range(0, 1000, 1)]}\n",
    "\n",
    "r_rs = RandomizedSearchCV(r, param_grid, cv=5, random_state=123).fit(avocado_x, avocado_y)\n",
    "\n",
    "r_rs.best_params_['alpha']\n",
    "\n",
    "r2 = Ridge(alpha=r_rs.best_params_['alpha'])\n",
    "\n",
    "r2.fit(avocado_x, avocado_y)"
   ]
  },
  {
   "cell_type": "code",
   "execution_count": 105,
   "metadata": {},
   "outputs": [
    {
     "data": {
      "text/html": [
       "<div>\n",
       "<style scoped>\n",
       "    .dataframe tbody tr th:only-of-type {\n",
       "        vertical-align: middle;\n",
       "    }\n",
       "\n",
       "    .dataframe tbody tr th {\n",
       "        vertical-align: top;\n",
       "    }\n",
       "\n",
       "    .dataframe thead th {\n",
       "        text-align: right;\n",
       "    }\n",
       "</style>\n",
       "<table border=\"1\" class=\"dataframe\">\n",
       "  <thead>\n",
       "    <tr style=\"text-align: right;\">\n",
       "      <th></th>\n",
       "      <th>Fold</th>\n",
       "      <th>Negative_Mean_Squared_Error</th>\n",
       "    </tr>\n",
       "  </thead>\n",
       "  <tbody>\n",
       "    <tr>\n",
       "      <td>0</td>\n",
       "      <td>1</td>\n",
       "      <td>-0.568669</td>\n",
       "    </tr>\n",
       "    <tr>\n",
       "      <td>1</td>\n",
       "      <td>2</td>\n",
       "      <td>0.223520</td>\n",
       "    </tr>\n",
       "    <tr>\n",
       "      <td>2</td>\n",
       "      <td>3</td>\n",
       "      <td>0.436800</td>\n",
       "    </tr>\n",
       "    <tr>\n",
       "      <td>3</td>\n",
       "      <td>4</td>\n",
       "      <td>-0.008131</td>\n",
       "    </tr>\n",
       "    <tr>\n",
       "      <td>4</td>\n",
       "      <td>5</td>\n",
       "      <td>-0.030704</td>\n",
       "    </tr>\n",
       "  </tbody>\n",
       "</table>\n",
       "</div>"
      ],
      "text/plain": [
       "   Fold  Negative_Mean_Squared_Error\n",
       "0     1                    -0.568669\n",
       "1     2                     0.223520\n",
       "2     3                     0.436800\n",
       "3     4                    -0.008131\n",
       "4     5                    -0.030704"
      ]
     },
     "execution_count": 105,
     "metadata": {},
     "output_type": "execute_result"
    }
   ],
   "source": [
    "fold_accuracies_r = cross_val_score(estimator=r2, X=avocado_x, y=avocado_y, cv=5)\n",
    "cv_scores_dict_r = {'Fold': [1, 2, 3, 4, 5],\n",
    "                  'Negative_Mean_Squared_Error': fold_accuracies_r}\n",
    "pd.DataFrame(cv_scores_dict_r)"
   ]
  },
  {
   "cell_type": "code",
   "execution_count": 68,
   "metadata": {},
   "outputs": [
    {
     "data": {
      "text/plain": [
       "0.01056322331902727"
      ]
     },
     "execution_count": 68,
     "metadata": {},
     "output_type": "execute_result"
    }
   ],
   "source": [
    "np.mean(cv_scores_dict_r['Negative_Mean_Squared_Error'])"
   ]
  },
  {
   "cell_type": "code",
   "execution_count": 67,
   "metadata": {},
   "outputs": [
    {
     "data": {
      "text/plain": [
       "[('lat', 0.03929019046645243),\n",
       " ('lon', 0.035713173557406844),\n",
       " ('type_conventional', -0.23266924869391734),\n",
       " ('type_organic', 0.23266924869391856),\n",
       " ('season_Fall', 0.10606794450654063),\n",
       " ('season_Spring', -0.053465967177356806),\n",
       " ('season_Summer', 0.043929715417307794),\n",
       " ('season_Winter', -0.09653169274649123)]"
      ]
     },
     "execution_count": 67,
     "metadata": {},
     "output_type": "execute_result"
    }
   ],
   "source": [
    "list(zip(feature_list, r2.coef_))"
   ]
  },
  {
   "cell_type": "code",
   "execution_count": 126,
   "metadata": {},
   "outputs": [
    {
     "data": {
      "text/html": [
       "<div>\n",
       "<style scoped>\n",
       "    .dataframe tbody tr th:only-of-type {\n",
       "        vertical-align: middle;\n",
       "    }\n",
       "\n",
       "    .dataframe tbody tr th {\n",
       "        vertical-align: top;\n",
       "    }\n",
       "\n",
       "    .dataframe thead th {\n",
       "        text-align: right;\n",
       "    }\n",
       "</style>\n",
       "<table border=\"1\" class=\"dataframe\">\n",
       "  <thead>\n",
       "    <tr style=\"text-align: right;\">\n",
       "      <th></th>\n",
       "      <th>feature_names</th>\n",
       "      <th>weights</th>\n",
       "    </tr>\n",
       "  </thead>\n",
       "  <tbody>\n",
       "    <tr>\n",
       "      <td>3</td>\n",
       "      <td>type_organic</td>\n",
       "      <td>0.249784</td>\n",
       "    </tr>\n",
       "    <tr>\n",
       "      <td>4</td>\n",
       "      <td>season_Fall</td>\n",
       "      <td>0.121799</td>\n",
       "    </tr>\n",
       "    <tr>\n",
       "      <td>6</td>\n",
       "      <td>season_Summer</td>\n",
       "      <td>0.050307</td>\n",
       "    </tr>\n",
       "    <tr>\n",
       "      <td>0</td>\n",
       "      <td>lat</td>\n",
       "      <td>0.040905</td>\n",
       "    </tr>\n",
       "    <tr>\n",
       "      <td>1</td>\n",
       "      <td>lon</td>\n",
       "      <td>0.036955</td>\n",
       "    </tr>\n",
       "    <tr>\n",
       "      <td>5</td>\n",
       "      <td>season_Spring</td>\n",
       "      <td>-0.061799</td>\n",
       "    </tr>\n",
       "    <tr>\n",
       "      <td>7</td>\n",
       "      <td>season_Winter</td>\n",
       "      <td>-0.110307</td>\n",
       "    </tr>\n",
       "    <tr>\n",
       "      <td>2</td>\n",
       "      <td>type_conventional</td>\n",
       "      <td>-0.249784</td>\n",
       "    </tr>\n",
       "  </tbody>\n",
       "</table>\n",
       "</div>"
      ],
      "text/plain": [
       "       feature_names   weights\n",
       "3       type_organic  0.249784\n",
       "4        season_Fall  0.121799\n",
       "6      season_Summer  0.050307\n",
       "0                lat  0.040905\n",
       "1                lon  0.036955\n",
       "5      season_Spring -0.061799\n",
       "7      season_Winter -0.110307\n",
       "2  type_conventional -0.249784"
      ]
     },
     "execution_count": 126,
     "metadata": {},
     "output_type": "execute_result"
    }
   ],
   "source": [
    "lr_feature_df = pd.DataFrame({\"feature_names\": feature_list,\n",
    "         \"weights\": r2.coef_})\n",
    "lr_feature_df = lr_feature_df.sort_values([\"weights\"], ascending=False)\n",
    "lr_feature_df"
   ]
  },
  {
   "cell_type": "code",
   "execution_count": 144,
   "metadata": {},
   "outputs": [],
   "source": [
    "lr_plot = alt.Chart(lr_feature_df).mark_bar(color=\"blue\", opacity=0.6).encode(\n",
    "    x = alt.X(\"feature_names:N\",\n",
    "              sort=alt.SortField(field=\"abs(weights):Q\"),\n",
    "              title=\"Features\"),\n",
    "    y = alt.Y(\"weights:Q\", title=\"Coefficient Weights\")\n",
    ").properties(title=\"Linear Regression\",\n",
    "       width=350)"
   ]
  },
  {
   "cell_type": "code",
   "execution_count": 139,
   "metadata": {},
   "outputs": [
    {
     "data": {
      "application/javascript": [
       "const spec = {\"config\": {\"view\": {\"width\": 400, \"height\": 300}, \"mark\": {\"tooltip\": null}}, \"data\": {\"name\": \"data-0e5abdae4b5b3065894fde9a5e4ec332\"}, \"mark\": {\"type\": \"bar\", \"color\": \"blue\", \"opacity\": 0.6}, \"encoding\": {\"x\": {\"type\": \"nominal\", \"field\": \"feature_names\", \"sort\": {\"field\": \"abs(weights):Q\"}, \"title\": \"Features\"}, \"y\": {\"type\": \"quantitative\", \"field\": \"weights\", \"title\": \"Coefficient Weights\"}}, \"title\": \"Most Important Predictors of Avocado Price\", \"width\": 350, \"$schema\": \"https://vega.github.io/schema/vega-lite/v3.4.0.json\", \"datasets\": {\"data-0e5abdae4b5b3065894fde9a5e4ec332\": [{\"feature_names\": \"type_organic\", \"weights\": 0.2497838535037117}, {\"feature_names\": \"season_Fall\", \"weights\": 0.1217987266185682}, {\"feature_names\": \"season_Summer\", \"weights\": 0.05030691908690038}, {\"feature_names\": \"lat\", \"weights\": 0.040904885778869325}, {\"feature_names\": \"lon\", \"weights\": 0.0369545115458163}, {\"feature_names\": \"season_Spring\", \"weights\": -0.0617987210956528}, {\"feature_names\": \"season_Winter\", \"weights\": -0.1103069246097906}, {\"feature_names\": \"type_conventional\", \"weights\": -0.2497838535036883}]}};\n",
       "const opt = {};\n",
       "const type = \"vega-lite\";\n",
       "const id = \"46d51f94-3178-4b6a-9e02-01f79a017dbc\";\n",
       "\n",
       "const output_area = this;\n",
       "\n",
       "require([\"nbextensions/jupyter-vega/index\"], function(vega) {\n",
       "  const target = document.createElement(\"div\");\n",
       "  target.id = id;\n",
       "  target.className = \"vega-embed\";\n",
       "\n",
       "  const style = document.createElement(\"style\");\n",
       "  style.textContent = [\n",
       "    \".vega-embed .error p {\",\n",
       "    \"  color: firebrick;\",\n",
       "    \"  font-size: 14px;\",\n",
       "    \"}\",\n",
       "  ].join(\"\\\\n\");\n",
       "\n",
       "  // element is a jQuery wrapped DOM element inside the output area\n",
       "  // see http://ipython.readthedocs.io/en/stable/api/generated/\\\n",
       "  // IPython.display.html#IPython.display.Javascript.__init__\n",
       "  element[0].appendChild(target);\n",
       "  element[0].appendChild(style);\n",
       "\n",
       "  vega.render(\"#\" + id, spec, type, opt, output_area);\n",
       "}, function (err) {\n",
       "  if (err.requireType !== \"scripterror\") {\n",
       "    throw(err);\n",
       "  }\n",
       "});\n"
      ],
      "text/plain": [
       "<vega.vegalite.VegaLite at 0x139d26210>"
      ]
     },
     "metadata": {
      "jupyter-vega": "#46d51f94-3178-4b6a-9e02-01f79a017dbc"
     },
     "output_type": "display_data"
    },
    {
     "data": {
      "text/plain": []
     },
     "execution_count": 139,
     "metadata": {},
     "output_type": "execute_result"
    },
    {
     "data": {
      "image/png": "[encoded data removed]"
     },
     "metadata": {
      "jupyter-vega": "#46d51f94-3178-4b6a-9e02-01f79a017dbc"
     },
     "output_type": "display_data"
    }
   ],
   "source": [
    "lr_plot"
   ]
  },
  {
   "cell_type": "code",
   "execution_count": 145,
   "metadata": {},
   "outputs": [
    {
     "data": {
      "application/javascript": [
       "const spec = {\"config\": {\"view\": {\"width\": 400, \"height\": 300}, \"mark\": {\"tooltip\": null}}, \"hconcat\": [{\"data\": {\"name\": \"data-d67f9a4a84496778ea8e8b42a5274e91\"}, \"mark\": {\"type\": \"bar\", \"color\": \"red\", \"opacity\": 0.6}, \"encoding\": {\"x\": {\"type\": \"nominal\", \"field\": \"feature_names\", \"sort\": {\"field\": \"importance:Q\"}, \"title\": \"Features\"}, \"y\": {\"type\": \"quantitative\", \"field\": \"importance\", \"title\": \"Feature Importance\"}}, \"title\": \"Random Forest Regression\", \"width\": 350}, {\"data\": {\"name\": \"data-0e5abdae4b5b3065894fde9a5e4ec332\"}, \"mark\": {\"type\": \"bar\", \"color\": \"blue\", \"opacity\": 0.6}, \"encoding\": {\"x\": {\"type\": \"nominal\", \"field\": \"feature_names\", \"sort\": {\"field\": \"abs(weights):Q\"}, \"title\": \"Features\"}, \"y\": {\"type\": \"quantitative\", \"field\": \"weights\", \"title\": \"Coefficient Weights\"}}, \"title\": \"Linear Regression\", \"width\": 350}], \"$schema\": \"https://vega.github.io/schema/vega-lite/v3.4.0.json\", \"datasets\": {\"data-d67f9a4a84496778ea8e8b42a5274e91\": [{\"feature_names\": \"type_conventional\", \"importance\": 0.3505264382435149}, {\"feature_names\": \"type_organic\", \"importance\": 0.29388775262722455}, {\"feature_names\": \"lon\", \"importance\": 0.1897853977759486}, {\"feature_names\": \"lat\", \"importance\": 0.07352741685532224}, {\"feature_names\": \"season_Fall\", \"importance\": 0.05335014359566004}, {\"feature_names\": \"season_Summer\", \"importance\": 0.02549459771617499}, {\"feature_names\": \"season_Winter\", \"importance\": 0.01112260489097802}, {\"feature_names\": \"season_Spring\", \"importance\": 0.002305648295176543}], \"data-0e5abdae4b5b3065894fde9a5e4ec332\": [{\"feature_names\": \"type_organic\", \"weights\": 0.2497838535037117}, {\"feature_names\": \"season_Fall\", \"weights\": 0.1217987266185682}, {\"feature_names\": \"season_Summer\", \"weights\": 0.05030691908690038}, {\"feature_names\": \"lat\", \"weights\": 0.040904885778869325}, {\"feature_names\": \"lon\", \"weights\": 0.0369545115458163}, {\"feature_names\": \"season_Spring\", \"weights\": -0.0617987210956528}, {\"feature_names\": \"season_Winter\", \"weights\": -0.1103069246097906}, {\"feature_names\": \"type_conventional\", \"weights\": -0.2497838535036883}]}};\n",
       "const opt = {};\n",
       "const type = \"vega-lite\";\n",
       "const id = \"511f6c71-8a65-4931-8f63-b90c1ced6956\";\n",
       "\n",
       "const output_area = this;\n",
       "\n",
       "require([\"nbextensions/jupyter-vega/index\"], function(vega) {\n",
       "  const target = document.createElement(\"div\");\n",
       "  target.id = id;\n",
       "  target.className = \"vega-embed\";\n",
       "\n",
       "  const style = document.createElement(\"style\");\n",
       "  style.textContent = [\n",
       "    \".vega-embed .error p {\",\n",
       "    \"  color: firebrick;\",\n",
       "    \"  font-size: 14px;\",\n",
       "    \"}\",\n",
       "  ].join(\"\\\\n\");\n",
       "\n",
       "  // element is a jQuery wrapped DOM element inside the output area\n",
       "  // see http://ipython.readthedocs.io/en/stable/api/generated/\\\n",
       "  // IPython.display.html#IPython.display.Javascript.__init__\n",
       "  element[0].appendChild(target);\n",
       "  element[0].appendChild(style);\n",
       "\n",
       "  vega.render(\"#\" + id, spec, type, opt, output_area);\n",
       "}, function (err) {\n",
       "  if (err.requireType !== \"scripterror\") {\n",
       "    throw(err);\n",
       "  }\n",
       "});\n"
      ],
      "text/plain": [
       "<vega.vegalite.VegaLite at 0x139d5ae90>"
      ]
     },
     "metadata": {
      "jupyter-vega": "#511f6c71-8a65-4931-8f63-b90c1ced6956"
     },
     "output_type": "display_data"
    },
    {
     "data": {
      "text/plain": []
     },
     "execution_count": 145,
     "metadata": {},
     "output_type": "execute_result"
    },
    {
     "data": {
      "image/png": "[encoded data removed]"
     },
     "metadata": {
      "jupyter-vega": "#511f6c71-8a65-4931-8f63-b90c1ced6956"
     },
     "output_type": "display_data"
    }
   ],
   "source": [
    "rfr_plot | lr_plot"
   ]
  },
  {
   "cell_type": "code",
   "execution_count": null,
   "metadata": {},
   "outputs": [],
   "source": []
  }
 ],
 "metadata": {
  "kernelspec": {
   "display_name": "Python 3",
   "language": "python",
   "name": "python3"
  },
  "language_info": {
   "codemirror_mode": {
    "name": "ipython",
    "version": 3
   },
   "file_extension": ".py",
   "mimetype": "text/x-python",
   "name": "python",
   "nbconvert_exporter": "python",
   "pygments_lexer": "ipython3",
   "version": "3.7.4"
  }
 },
 "nbformat": 4,
 "nbformat_minor": 2
}
