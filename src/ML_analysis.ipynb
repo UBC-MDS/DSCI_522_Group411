{
 "cells": [
  {
   "cell_type": "code",
   "execution_count": 88,
   "metadata": {},
   "outputs": [],
   "source": [
    "import pandas as pd\n",
    "import numpy as np\n",
    "from sklearn.ensemble import RandomForestRegressor\n",
    "from sklearn.preprocessing import OneHotEncoder\n",
    "from sklearn.compose import ColumnTransformer\n",
    "from sklearn.model_selection import RandomizedSearchCV\n",
    "import altair as alt\n",
    "from sklearn.linear_model import LinearRegression\n",
    "from sklearn.model_selection import train_test_split"
   ]
  },
  {
   "cell_type": "code",
   "execution_count": 89,
   "metadata": {},
   "outputs": [],
   "source": [
    "# Load the wrangled and split data\n",
    "avocado = pd.read_csv(\"avocado_train_clean.csv\")\n",
    "avocado2 = pd.read_csv(\"avocado_train_raw.csv\")\n",
    "# must load in avocado_test "
   ]
  },
  {
   "cell_type": "code",
   "execution_count": 20,
   "metadata": {},
   "outputs": [
    {
     "data": {
      "text/plain": [
       "Index(['X1', 'Date', 'AveragePrice', 'Total Volume', 'Total Bags', 'type',\n",
       "       'year', 'region', 'PLU', 'no_sold', 'bag_size', 'bags_sold', 'month',\n",
       "       'year_month'],\n",
       "      dtype='object')"
      ]
     },
     "execution_count": 20,
     "metadata": {},
     "output_type": "execute_result"
    }
   ],
   "source": [
    "# Which features do we want to keep?\n",
    "avocado.columns\n",
    "# want month, region, type"
   ]
  },
  {
   "cell_type": "code",
   "execution_count": 80,
   "metadata": {},
   "outputs": [],
   "source": [
    "# Split the data into target and features\n",
    "avocado_y = avocado['AveragePrice']\n",
    "avocado_x = avocado[['region', 'type', 'month']]\n",
    "\n",
    "# need to convert categorical to numerical using one-hot-encoding\n",
    "categorical_features = ['region', 'type', 'month']\n",
    "\n",
    "preprocessor = ColumnTransformer(transformers=[\n",
    "    ('ohe', OneHotEncoder(drop=\"first\"), categorical_features)\n",
    "])\n",
    "\n",
    "avocado_x = preprocessor.fit_transform(avocado_x)\n",
    "\n",
    "# must also transform the x_test data\n",
    "\n",
    "#avocado_test_x = pd.DataFrame(preprocessor.transform(avocado_test_x),\n",
    "#                              index=avocado_test_x.index,\n",
    "#                              columns=avocado_x.columns)"
   ]
  },
  {
   "cell_type": "code",
   "execution_count": 81,
   "metadata": {},
   "outputs": [
    {
     "data": {
      "text/plain": [
       "RandomForestRegressor(bootstrap=True, ccp_alpha=0.0, criterion='mse',\n",
       "                      max_depth=None, max_features='auto', max_leaf_nodes=None,\n",
       "                      max_samples=None, min_impurity_decrease=0.0,\n",
       "                      min_impurity_split=None, min_samples_leaf=1,\n",
       "                      min_samples_split=2, min_weight_fraction_leaf=0.0,\n",
       "                      n_estimators=100, n_jobs=None, oob_score=False,\n",
       "                      random_state=None, verbose=0, warm_start=False)"
      ]
     },
     "execution_count": 81,
     "metadata": {},
     "output_type": "execute_result"
    }
   ],
   "source": [
    "# fit rfr model\n",
    "rfr = RandomForestRegressor()\n",
    "rfr.fit(avocado_x, avocado_y)"
   ]
  },
  {
   "cell_type": "code",
   "execution_count": 83,
   "metadata": {},
   "outputs": [],
   "source": [
    "# find optimal hyperparameters\n",
    "\n",
    "rfr_parameters = {'max_depth': range(1, 20),\n",
    "                  'n_estimators': range(1, 100)}\n",
    "\n",
    "RandomizedSearchCV(rfr, rfr_parameters,\n",
    "             cv=5).fit(avocado_x, avocado_y)"
   ]
  },
  {
   "cell_type": "code",
   "execution_count": 62,
   "metadata": {},
   "outputs": [
    {
     "data": {
      "text/html": [
       "<div>\n",
       "<style scoped>\n",
       "    .dataframe tbody tr th:only-of-type {\n",
       "        vertical-align: middle;\n",
       "    }\n",
       "\n",
       "    .dataframe tbody tr th {\n",
       "        vertical-align: top;\n",
       "    }\n",
       "\n",
       "    .dataframe thead th {\n",
       "        text-align: right;\n",
       "    }\n",
       "</style>\n",
       "<table border=\"1\" class=\"dataframe\">\n",
       "  <thead>\n",
       "    <tr style=\"text-align: right;\">\n",
       "      <th></th>\n",
       "      <th>X1</th>\n",
       "      <th>Date</th>\n",
       "      <th>AveragePrice</th>\n",
       "      <th>Total Volume</th>\n",
       "      <th>Total Bags</th>\n",
       "      <th>type</th>\n",
       "      <th>year</th>\n",
       "      <th>region</th>\n",
       "      <th>PLU</th>\n",
       "      <th>no_sold</th>\n",
       "      <th>bag_size</th>\n",
       "      <th>bags_sold</th>\n",
       "      <th>month</th>\n",
       "      <th>year_month</th>\n",
       "    </tr>\n",
       "  </thead>\n",
       "  <tbody>\n",
       "    <tr>\n",
       "      <td>0</td>\n",
       "      <td>1</td>\n",
       "      <td>2015-12-20</td>\n",
       "      <td>1.35</td>\n",
       "      <td>54876.98</td>\n",
       "      <td>9505.56</td>\n",
       "      <td>conventional</td>\n",
       "      <td>2015</td>\n",
       "      <td>Albany</td>\n",
       "      <td>4046</td>\n",
       "      <td>674.28</td>\n",
       "      <td>Small Bags</td>\n",
       "      <td>9408.07</td>\n",
       "      <td>Dec</td>\n",
       "      <td>2015-12</td>\n",
       "    </tr>\n",
       "    <tr>\n",
       "      <td>1</td>\n",
       "      <td>2</td>\n",
       "      <td>2015-12-13</td>\n",
       "      <td>0.93</td>\n",
       "      <td>118220.22</td>\n",
       "      <td>8145.35</td>\n",
       "      <td>conventional</td>\n",
       "      <td>2015</td>\n",
       "      <td>Albany</td>\n",
       "      <td>4046</td>\n",
       "      <td>794.70</td>\n",
       "      <td>Small Bags</td>\n",
       "      <td>8042.21</td>\n",
       "      <td>Dec</td>\n",
       "      <td>2015-12</td>\n",
       "    </tr>\n",
       "    <tr>\n",
       "      <td>2</td>\n",
       "      <td>3</td>\n",
       "      <td>2015-12-06</td>\n",
       "      <td>1.08</td>\n",
       "      <td>78992.15</td>\n",
       "      <td>5811.16</td>\n",
       "      <td>conventional</td>\n",
       "      <td>2015</td>\n",
       "      <td>Albany</td>\n",
       "      <td>4046</td>\n",
       "      <td>1132.00</td>\n",
       "      <td>Small Bags</td>\n",
       "      <td>5677.40</td>\n",
       "      <td>Dec</td>\n",
       "      <td>2015-12</td>\n",
       "    </tr>\n",
       "    <tr>\n",
       "      <td>3</td>\n",
       "      <td>4</td>\n",
       "      <td>2015-11-29</td>\n",
       "      <td>1.28</td>\n",
       "      <td>51039.60</td>\n",
       "      <td>6183.95</td>\n",
       "      <td>conventional</td>\n",
       "      <td>2015</td>\n",
       "      <td>Albany</td>\n",
       "      <td>4046</td>\n",
       "      <td>941.48</td>\n",
       "      <td>Small Bags</td>\n",
       "      <td>5986.26</td>\n",
       "      <td>Nov</td>\n",
       "      <td>2015-11</td>\n",
       "    </tr>\n",
       "    <tr>\n",
       "      <td>4</td>\n",
       "      <td>6</td>\n",
       "      <td>2015-11-15</td>\n",
       "      <td>0.99</td>\n",
       "      <td>83453.76</td>\n",
       "      <td>8318.86</td>\n",
       "      <td>conventional</td>\n",
       "      <td>2015</td>\n",
       "      <td>Albany</td>\n",
       "      <td>4046</td>\n",
       "      <td>1368.92</td>\n",
       "      <td>Small Bags</td>\n",
       "      <td>8196.81</td>\n",
       "      <td>Nov</td>\n",
       "      <td>2015-11</td>\n",
       "    </tr>\n",
       "    <tr>\n",
       "      <td>...</td>\n",
       "      <td>...</td>\n",
       "      <td>...</td>\n",
       "      <td>...</td>\n",
       "      <td>...</td>\n",
       "      <td>...</td>\n",
       "      <td>...</td>\n",
       "      <td>...</td>\n",
       "      <td>...</td>\n",
       "      <td>...</td>\n",
       "      <td>...</td>\n",
       "      <td>...</td>\n",
       "      <td>...</td>\n",
       "      <td>...</td>\n",
       "      <td>...</td>\n",
       "    </tr>\n",
       "    <tr>\n",
       "      <td>131390</td>\n",
       "      <td>5</td>\n",
       "      <td>2018-02-18</td>\n",
       "      <td>1.56</td>\n",
       "      <td>17597.12</td>\n",
       "      <td>13776.71</td>\n",
       "      <td>organic</td>\n",
       "      <td>2018</td>\n",
       "      <td>WestTexNewMexico</td>\n",
       "      <td>4770</td>\n",
       "      <td>0.00</td>\n",
       "      <td>XLarge Bags</td>\n",
       "      <td>0.00</td>\n",
       "      <td>Feb</td>\n",
       "      <td>2018-02</td>\n",
       "    </tr>\n",
       "    <tr>\n",
       "      <td>131391</td>\n",
       "      <td>7</td>\n",
       "      <td>2018-02-04</td>\n",
       "      <td>1.63</td>\n",
       "      <td>17074.83</td>\n",
       "      <td>13498.67</td>\n",
       "      <td>organic</td>\n",
       "      <td>2018</td>\n",
       "      <td>WestTexNewMexico</td>\n",
       "      <td>4770</td>\n",
       "      <td>0.00</td>\n",
       "      <td>XLarge Bags</td>\n",
       "      <td>0.00</td>\n",
       "      <td>Feb</td>\n",
       "      <td>2018-02</td>\n",
       "    </tr>\n",
       "    <tr>\n",
       "      <td>131392</td>\n",
       "      <td>8</td>\n",
       "      <td>2018-01-28</td>\n",
       "      <td>1.71</td>\n",
       "      <td>13888.04</td>\n",
       "      <td>9264.84</td>\n",
       "      <td>organic</td>\n",
       "      <td>2018</td>\n",
       "      <td>WestTexNewMexico</td>\n",
       "      <td>4770</td>\n",
       "      <td>0.00</td>\n",
       "      <td>XLarge Bags</td>\n",
       "      <td>0.00</td>\n",
       "      <td>Jan</td>\n",
       "      <td>2018-01</td>\n",
       "    </tr>\n",
       "    <tr>\n",
       "      <td>131393</td>\n",
       "      <td>9</td>\n",
       "      <td>2018-01-21</td>\n",
       "      <td>1.87</td>\n",
       "      <td>13766.76</td>\n",
       "      <td>9394.11</td>\n",
       "      <td>organic</td>\n",
       "      <td>2018</td>\n",
       "      <td>WestTexNewMexico</td>\n",
       "      <td>4770</td>\n",
       "      <td>727.94</td>\n",
       "      <td>XLarge Bags</td>\n",
       "      <td>0.00</td>\n",
       "      <td>Jan</td>\n",
       "      <td>2018-01</td>\n",
       "    </tr>\n",
       "    <tr>\n",
       "      <td>131394</td>\n",
       "      <td>10</td>\n",
       "      <td>2018-01-14</td>\n",
       "      <td>1.93</td>\n",
       "      <td>16205.22</td>\n",
       "      <td>10969.54</td>\n",
       "      <td>organic</td>\n",
       "      <td>2018</td>\n",
       "      <td>WestTexNewMexico</td>\n",
       "      <td>4770</td>\n",
       "      <td>727.01</td>\n",
       "      <td>XLarge Bags</td>\n",
       "      <td>0.00</td>\n",
       "      <td>Jan</td>\n",
       "      <td>2018-01</td>\n",
       "    </tr>\n",
       "  </tbody>\n",
       "</table>\n",
       "<p>131395 rows × 14 columns</p>\n",
       "</div>"
      ],
      "text/plain": [
       "        X1        Date  AveragePrice  Total Volume  Total Bags          type  \\\n",
       "0        1  2015-12-20          1.35      54876.98     9505.56  conventional   \n",
       "1        2  2015-12-13          0.93     118220.22     8145.35  conventional   \n",
       "2        3  2015-12-06          1.08      78992.15     5811.16  conventional   \n",
       "3        4  2015-11-29          1.28      51039.60     6183.95  conventional   \n",
       "4        6  2015-11-15          0.99      83453.76     8318.86  conventional   \n",
       "...     ..         ...           ...           ...         ...           ...   \n",
       "131390   5  2018-02-18          1.56      17597.12    13776.71       organic   \n",
       "131391   7  2018-02-04          1.63      17074.83    13498.67       organic   \n",
       "131392   8  2018-01-28          1.71      13888.04     9264.84       organic   \n",
       "131393   9  2018-01-21          1.87      13766.76     9394.11       organic   \n",
       "131394  10  2018-01-14          1.93      16205.22    10969.54       organic   \n",
       "\n",
       "        year            region   PLU  no_sold     bag_size  bags_sold month  \\\n",
       "0       2015            Albany  4046   674.28   Small Bags    9408.07   Dec   \n",
       "1       2015            Albany  4046   794.70   Small Bags    8042.21   Dec   \n",
       "2       2015            Albany  4046  1132.00   Small Bags    5677.40   Dec   \n",
       "3       2015            Albany  4046   941.48   Small Bags    5986.26   Nov   \n",
       "4       2015            Albany  4046  1368.92   Small Bags    8196.81   Nov   \n",
       "...      ...               ...   ...      ...          ...        ...   ...   \n",
       "131390  2018  WestTexNewMexico  4770     0.00  XLarge Bags       0.00   Feb   \n",
       "131391  2018  WestTexNewMexico  4770     0.00  XLarge Bags       0.00   Feb   \n",
       "131392  2018  WestTexNewMexico  4770     0.00  XLarge Bags       0.00   Jan   \n",
       "131393  2018  WestTexNewMexico  4770   727.94  XLarge Bags       0.00   Jan   \n",
       "131394  2018  WestTexNewMexico  4770   727.01  XLarge Bags       0.00   Jan   \n",
       "\n",
       "       year_month  \n",
       "0         2015-12  \n",
       "1         2015-12  \n",
       "2         2015-12  \n",
       "3         2015-11  \n",
       "4         2015-11  \n",
       "...           ...  \n",
       "131390    2018-02  \n",
       "131391    2018-02  \n",
       "131392    2018-01  \n",
       "131393    2018-01  \n",
       "131394    2018-01  \n",
       "\n",
       "[131395 rows x 14 columns]"
      ]
     },
     "execution_count": 62,
     "metadata": {},
     "output_type": "execute_result"
    }
   ],
   "source": [
    "avocado"
   ]
  },
  {
   "cell_type": "code",
   "execution_count": 36,
   "metadata": {},
   "outputs": [
    {
     "data": {
      "text/plain": [
       "array([0.00362001, 0.00381387, 0.00384277, 0.00516104, 0.00582373,\n",
       "       0.0028342 , 0.0092982 , 0.00523171, 0.00535618, 0.00417197,\n",
       "       0.01473986, 0.00590664, 0.00360519, 0.00296486, 0.00206718,\n",
       "       0.00399987, 0.03170659, 0.0191726 , 0.00260061, 0.00394234,\n",
       "       0.00665036, 0.00702894, 0.00326149, 0.00253224, 0.00108631,\n",
       "       0.00534748, 0.00234568, 0.01821714, 0.00870506, 0.00230928,\n",
       "       0.00347041, 0.01011997, 0.01764205, 0.00307753, 0.00142268,\n",
       "       0.0051306 , 0.00650568, 0.00286029, 0.00415068, 0.01079123,\n",
       "       0.00434373, 0.03107275, 0.00538699, 0.00150416, 0.01383668,\n",
       "       0.00138741, 0.00671488, 0.00244471, 0.00512981, 0.00185128,\n",
       "       0.00193968, 0.00539364, 0.0124447 , 0.5384703 , 0.01407611,\n",
       "       0.00382699, 0.00866664, 0.00576042, 0.00806428, 0.00438672,\n",
       "       0.00279491, 0.00322644, 0.00741946, 0.02649319, 0.02084961])"
      ]
     },
     "execution_count": 36,
     "metadata": {},
     "output_type": "execute_result"
    }
   ],
   "source": [
    "rfr.feature_importances_"
   ]
  },
  {
   "cell_type": "code",
   "execution_count": 85,
   "metadata": {},
   "outputs": [
    {
     "data": {
      "text/plain": [
       "[('region_Albany', 0.003642420271223255),\n",
       " ('region_Atlanta', 0.003862730438812623),\n",
       " ('region_BaltimoreWashington', 0.0038297064142683783),\n",
       " ('region_Boise', 0.005211331234078844),\n",
       " ('region_Boston', 0.005849615589820036),\n",
       " ('region_BuffaloRochester', 0.002807831695679179),\n",
       " ('region_California', 0.009253725572062157),\n",
       " ('region_Charlotte', 0.005220019578309617),\n",
       " ('region_Chicago', 0.005256480444419881),\n",
       " ('region_CincinnatiDayton', 0.004116928739247078),\n",
       " ('region_Columbus', 0.01475884662263401),\n",
       " ('region_DallasFtWorth', 0.006011350009515482),\n",
       " ('region_Denver', 0.003532694562228657),\n",
       " ('region_Detroit', 0.0030726286216170486),\n",
       " ('region_GrandRapids', 0.00203895261746701),\n",
       " ('region_GreatLakes', 0.004060034011414796),\n",
       " ('region_HarrisburgScranton', 0.03177927521409502),\n",
       " ('region_HartfordSpringfield', 0.01919939355328656),\n",
       " ('region_Houston', 0.0025913293447321047),\n",
       " ('region_Indianapolis', 0.003987324014118162),\n",
       " ('region_Jacksonville', 0.006580194074187059),\n",
       " ('region_LasVegas', 0.007046480261024217),\n",
       " ('region_LosAngeles', 0.003185527818293788),\n",
       " ('region_Louisville', 0.0026853481433371123),\n",
       " ('region_MiamiFtLauderdale', 0.0010443319997865605),\n",
       " ('region_Midsouth', 0.005345572910593877),\n",
       " ('region_Nashville', 0.0023678118234775713),\n",
       " ('region_NewOrleansMobile', 0.01805725982414802),\n",
       " ('region_NewYork', 0.008694739161379937),\n",
       " ('region_Northeast', 0.002354992277872921),\n",
       " ('region_NorthernNewEngland', 0.0036125409621753078),\n",
       " ('region_Orlando', 0.010131320109946705),\n",
       " ('region_Philadelphia', 0.017612532837795025),\n",
       " ('region_PhoenixTucson', 0.003107654243006614),\n",
       " ('region_Pittsburgh', 0.001423610478297301),\n",
       " ('region_Plains', 0.0051351420707133),\n",
       " ('region_Portland', 0.006479529750728151),\n",
       " ('region_RaleighGreensboro', 0.0028086905522303647),\n",
       " ('region_RichmondNorfolk', 0.004084273655629429),\n",
       " ('region_Roanoke', 0.010734038136765845),\n",
       " ('region_Sacramento', 0.004395170251788818),\n",
       " ('region_SanDiego', 0.031019790211312508),\n",
       " ('region_SanFrancisco', 0.005419111138818813),\n",
       " ('region_Seattle', 0.0014807411333919694),\n",
       " ('region_SouthCarolina', 0.013882504545771935),\n",
       " ('region_SouthCentral', 0.0013751478211148764),\n",
       " ('region_Southeast', 0.006679595112300499),\n",
       " ('region_Spokane', 0.0024410275449788543),\n",
       " ('region_StLouis', 0.005196287564252783),\n",
       " ('region_Syracuse', 0.0018983334596001065),\n",
       " ('region_Tampa', 0.0019294368728233642),\n",
       " ('region_TotalUS', 0.005283356925458611),\n",
       " ('region_West', 0.012403312573440583),\n",
       " ('region_WestTexNewMexico', 0.53828884823378),\n",
       " ('type_conventional', 0.014252440867877901),\n",
       " ('type_organic', 0.0037893969624142295),\n",
       " ('month_Apr', 0.008564373872014062),\n",
       " ('month_Aug', 0.005654971169814814),\n",
       " ('month_Dec', 0.008008216894121567),\n",
       " ('month_Feb', 0.004377339394450734),\n",
       " ('month_Jan', 0.0028218147202702117),\n",
       " ('month_Jul', 0.0032493140763217277),\n",
       " ('month_Jun', 0.007480769445798433),\n",
       " ('month_Mar', 0.026438068451977586),\n",
       " ('month_May', 0.021096421115686003)]"
      ]
     },
     "execution_count": 85,
     "metadata": {},
     "output_type": "execute_result"
    }
   ],
   "source": [
    "list(zip(feature_list, rfr.feature_importances_))"
   ]
  },
  {
   "cell_type": "code",
   "execution_count": 54,
   "metadata": {},
   "outputs": [
    {
     "name": "stdout",
     "output_type": "stream",
     "text": [
      "['region_Albany', 'region_Atlanta', 'region_BaltimoreWashington', 'region_Boise', 'region_Boston', 'region_BuffaloRochester', 'region_California', 'region_Charlotte', 'region_Chicago', 'region_CincinnatiDayton', 'region_Columbus', 'region_DallasFtWorth', 'region_Denver', 'region_Detroit', 'region_GrandRapids', 'region_GreatLakes', 'region_HarrisburgScranton', 'region_HartfordSpringfield', 'region_Houston', 'region_Indianapolis', 'region_Jacksonville', 'region_LasVegas', 'region_LosAngeles', 'region_Louisville', 'region_MiamiFtLauderdale', 'region_Midsouth', 'region_Nashville', 'region_NewOrleansMobile', 'region_NewYork', 'region_Northeast', 'region_NorthernNewEngland', 'region_Orlando', 'region_Philadelphia', 'region_PhoenixTucson', 'region_Pittsburgh', 'region_Plains', 'region_Portland', 'region_RaleighGreensboro', 'region_RichmondNorfolk', 'region_Roanoke', 'region_Sacramento', 'region_SanDiego', 'region_SanFrancisco', 'region_Seattle', 'region_SouthCarolina', 'region_SouthCentral', 'region_Southeast', 'region_Spokane', 'region_StLouis', 'region_Syracuse', 'region_Tampa', 'region_TotalUS', 'region_West', 'region_WestTexNewMexico', 'type_conventional', 'type_organic', 'month_Apr', 'month_Aug', 'month_Dec', 'month_Feb', 'month_Jan', 'month_Jul', 'month_Jun', 'month_Mar', 'month_May', 'month_Nov', 'month_Oct', 'month_Sep']\n"
     ]
    }
   ],
   "source": [
    "features = pd.get_dummies(avocado[['region', 'type', 'month']])\n",
    "feature_list = list(features.columns)"
   ]
  },
  {
   "cell_type": "code",
   "execution_count": 69,
   "metadata": {},
   "outputs": [
    {
     "data": {
      "text/plain": [
       "0.7043800061235217"
      ]
     },
     "execution_count": 69,
     "metadata": {},
     "output_type": "execute_result"
    }
   ],
   "source": [
    "rfr.score(avocado_x, avocado_y)"
   ]
  },
  {
   "cell_type": "code",
   "execution_count": 74,
   "metadata": {},
   "outputs": [
    {
     "data": {
      "text/plain": [
       "LinearRegression(copy_X=True, fit_intercept=True, n_jobs=None, normalize=False)"
      ]
     },
     "execution_count": 74,
     "metadata": {},
     "output_type": "execute_result"
    }
   ],
   "source": [
    "lr = LinearRegression()\n",
    "lr.fit(avocado_x, avocado_y)"
   ]
  },
  {
   "cell_type": "code",
   "execution_count": 75,
   "metadata": {},
   "outputs": [
    {
     "data": {
      "text/plain": [
       "0.6078288201088087"
      ]
     },
     "execution_count": 75,
     "metadata": {},
     "output_type": "execute_result"
    }
   ],
   "source": [
    "lr.score(avocado_x, avocado_y)"
   ]
  },
  {
   "cell_type": "code",
   "execution_count": 79,
   "metadata": {},
   "outputs": [
    {
     "data": {
      "text/plain": [
       "[('region_Albany', -0.22398985024759535),\n",
       " ('region_Atlanta', -0.023940270098505547),\n",
       " ('region_BaltimoreWashington', -0.20713715989451348),\n",
       " ('region_Boise', -0.031748084799057115),\n",
       " ('region_Boston', -0.04403079844011538),\n",
       " ('region_BuffaloRochester', -0.16575368048122055),\n",
       " ('region_California', 0.045763506763110896),\n",
       " ('region_Charlotte', -0.005320359078595685),\n",
       " ('region_Chicago', -0.34970535113860535),\n",
       " ('region_CincinnatiDayton', -0.31197654961569043),\n",
       " ('region_Columbus', -0.47345230908200653),\n",
       " ('region_DallasFtWorth', -0.3438154205246774),\n",
       " ('region_Denver', -0.2848558613854846),\n",
       " ('region_Detroit', -0.06140603371257497),\n",
       " ('region_GrandRapids', -0.2215630838009708),\n",
       " ('region_GreatLakes', -0.04433344065372997),\n",
       " ('region_HarrisburgScranton', 0.2574802522876479),\n",
       " ('region_HartfordSpringfield', -0.5133138647905581),\n",
       " ('region_Houston', -0.242619410540572),\n",
       " ('region_Indianapolis', -0.05266871296219488),\n",
       " ('region_Jacksonville', -0.18104589278440525),\n",
       " ('region_LasVegas', -0.3466039780025144),\n",
       " ('region_LosAngeles', -0.2749986284941174),\n",
       " ('region_Louisville', -0.13484311139198993),\n",
       " ('region_MiamiFtLauderdale', -0.15724116880216002),\n",
       " ('region_Midsouth', -0.34872424076648),\n",
       " ('region_Nashville', -0.2551257798996542),\n",
       " ('region_NewOrleansMobile', 0.16671903664400936),\n",
       " ('region_NewYork', 0.0410042120566874),\n",
       " ('region_Northeast', -0.08542002482606124),\n",
       " ('region_NorthernNewEngland', -0.05326459521321993),\n",
       " ('region_Orlando', 0.07068133440490307),\n",
       " ('region_Philadelphia', -0.3320738064975207),\n",
       " ('region_PhoenixTucson', -0.19684361774864956),\n",
       " ('region_Pittsburgh', -0.12190435599983415),\n",
       " ('region_Plains', -0.24560510136618197),\n",
       " ('region_Portland', -0.009547518918581275),\n",
       " ('region_RaleighGreensboro', -0.26985973418653386),\n",
       " ('region_RichmondNorfolk', -0.3088516051811895),\n",
       " ('region_Roanoke', 0.055926474440973324),\n",
       " ('region_Sacramento', -0.1640227052458208),\n",
       " ('region_SanDiego', 0.24828773277974794),\n",
       " ('region_SanFrancisco', -0.11901122445158567),\n",
       " ('region_Seattle', -0.1565697628090675),\n",
       " ('region_SouthCarolina', -0.457801728103544),\n",
       " ('region_SouthCentral', -0.16037681145824595),\n",
       " ('region_Southeast', -0.10942522224718386),\n",
       " ('region_Spokane', -0.12241809186201161),\n",
       " ('region_StLouis', -0.04249222199327818),\n",
       " ('region_Syracuse', -0.1532066415235092),\n",
       " ('region_Tampa', -0.24255647529548952),\n",
       " ('region_TotalUS', -0.29047207886485993),\n",
       " ('region_West', -0.29574551207028),\n",
       " ('region_WestTexNewMexico', 0.49643394339721525),\n",
       " ('type_conventional', 0.14035915779806804),\n",
       " ('type_organic', -0.04102991501899615),\n",
       " ('month_Apr', -0.0992221152382149),\n",
       " ('month_Aug', -0.062132824546037344),\n",
       " ('month_Dec', 0.08863693851710175),\n",
       " ('month_Feb', 0.03726676906812153),\n",
       " ('month_Jan', -0.040889918788790676),\n",
       " ('month_Jul', -0.02760789212691454),\n",
       " ('month_Jun', 0.08204082499082345),\n",
       " ('month_Mar', 0.20697561322818478),\n",
       " ('month_May', 0.19832417348474646)]"
      ]
     },
     "execution_count": 79,
     "metadata": {},
     "output_type": "execute_result"
    }
   ],
   "source": [
    "list(zip(feature_list, lr.coef_))"
   ]
  },
  {
   "cell_type": "code",
   "execution_count": 94,
   "metadata": {},
   "outputs": [],
   "source": [
    "# Split the data into target and features\n",
    "avocado_train_y2 = avocado2['AveragePrice']\n",
    "avocado_train_x2 = avocado2[['region', 'type', 'month']]\n",
    "\n",
    "# need to convert categorical to numerical using one-hot-encoding\n",
    "categorical_features = ['region', 'type', 'month']\n",
    "\n",
    "preprocessor = ColumnTransformer(transformers=[\n",
    "    ('ohe', OneHotEncoder(drop=\"first\"), categorical_features)\n",
    "])\n",
    "\n",
    "avocado_train_x2 = preprocessor.fit_transform(avocado_train_x2)\n",
    "\n",
    "# must also transform the x_test data\n",
    "\n",
    "#avocado_test_x = pd.DataFrame(preprocessor.transform(avocado_test_x),\n",
    "#                              index=avocado_test_x.index,\n",
    "#                              columns=avocado_x.columns)"
   ]
  },
  {
   "cell_type": "code",
   "execution_count": 95,
   "metadata": {},
   "outputs": [
    {
     "data": {
      "text/plain": [
       "RandomForestRegressor(bootstrap=True, ccp_alpha=0.0, criterion='mse',\n",
       "                      max_depth=None, max_features='auto', max_leaf_nodes=None,\n",
       "                      max_samples=None, min_impurity_decrease=0.0,\n",
       "                      min_impurity_split=None, min_samples_leaf=1,\n",
       "                      min_samples_split=2, min_weight_fraction_leaf=0.0,\n",
       "                      n_estimators=100, n_jobs=None, oob_score=False,\n",
       "                      random_state=None, verbose=0, warm_start=False)"
      ]
     },
     "execution_count": 95,
     "metadata": {},
     "output_type": "execute_result"
    }
   ],
   "source": [
    "rfr.fit(avocado_train_x2, avocado_train_y2)"
   ]
  },
  {
   "cell_type": "code",
   "execution_count": 96,
   "metadata": {},
   "outputs": [
    {
     "data": {
      "text/plain": [
       "RandomizedSearchCV(cv=5, error_score=nan,\n",
       "                   estimator=RandomForestRegressor(bootstrap=True,\n",
       "                                                   ccp_alpha=0.0,\n",
       "                                                   criterion='mse',\n",
       "                                                   max_depth=None,\n",
       "                                                   max_features='auto',\n",
       "                                                   max_leaf_nodes=None,\n",
       "                                                   max_samples=None,\n",
       "                                                   min_impurity_decrease=0.0,\n",
       "                                                   min_impurity_split=None,\n",
       "                                                   min_samples_leaf=1,\n",
       "                                                   min_samples_split=2,\n",
       "                                                   min_weight_fraction_leaf=0.0,\n",
       "                                                   n_estimators=100,\n",
       "                                                   n_jobs=None, oob_score=False,\n",
       "                                                   random_state=None, verbose=0,\n",
       "                                                   warm_start=False),\n",
       "                   iid='deprecated', n_iter=10, n_jobs=None,\n",
       "                   param_distributions={'max_depth': range(1, 20),\n",
       "                                        'n_estimators': range(1, 100)},\n",
       "                   pre_dispatch='2*n_jobs', random_state=None, refit=True,\n",
       "                   return_train_score=False, scoring=None, verbose=0)"
      ]
     },
     "execution_count": 96,
     "metadata": {},
     "output_type": "execute_result"
    }
   ],
   "source": [
    "# find optimal hyperparameters\n",
    "RandomizedSearchCV(rfr, rfr_parameters,\n",
    "             cv=5).fit(avocado_train_x2, avocado_train_y2)"
   ]
  },
  {
   "cell_type": "code",
   "execution_count": 97,
   "metadata": {},
   "outputs": [
    {
     "data": {
      "text/plain": [
       "[('region_Albany', 0.00432286639227454),\n",
       " ('region_Atlanta', 0.0034503022922991533),\n",
       " ('region_BaltimoreWashington', 0.004651477422238678),\n",
       " ('region_Boise', 0.0055698639337435196),\n",
       " ('region_Boston', 0.006170938087110058),\n",
       " ('region_BuffaloRochester', 0.003155223078158226),\n",
       " ('region_California', 0.009594271839611245),\n",
       " ('region_Charlotte', 0.00577901037843646),\n",
       " ('region_Chicago', 0.0061827270818456655),\n",
       " ('region_CincinnatiDayton', 0.004770331973116497),\n",
       " ('region_Columbus', 0.01556173126070064),\n",
       " ('region_DallasFtWorth', 0.007072410509158438),\n",
       " ('region_Denver', 0.003883927798539314),\n",
       " ('region_Detroit', 0.004056556003938128),\n",
       " ('region_GrandRapids', 0.0025887281316199764),\n",
       " ('region_GreatLakes', 0.0032210161835153047),\n",
       " ('region_HarrisburgScranton', 0.030582435756993192),\n",
       " ('region_HartfordSpringfield', 0.017961054243405255),\n",
       " ('region_Houston', 0.0028062642573921845),\n",
       " ('region_Indianapolis', 0.004593657956603099),\n",
       " ('region_Jacksonville', 0.006498824299481722),\n",
       " ('region_LasVegas', 0.007821695359195713),\n",
       " ('region_LosAngeles', 0.0039779824666485025),\n",
       " ('region_Louisville', 0.0031290076935287354),\n",
       " ('region_MiamiFtLauderdale', 0.0013853313109568023),\n",
       " ('region_Midsouth', 0.005578707179584113),\n",
       " ('region_Nashville', 0.0028994062424825572),\n",
       " ('region_NewOrleansMobile', 0.017774787793766563),\n",
       " ('region_NewYork', 0.007994360825749065),\n",
       " ('region_Northeast', 0.0025945057860828707),\n",
       " ('region_NorthernNewEngland', 0.00409270701846872),\n",
       " ('region_Orlando', 0.00956495910781602),\n",
       " ('region_Philadelphia', 0.017271770374027648),\n",
       " ('region_PhoenixTucson', 0.0034470488257142442),\n",
       " ('region_Pittsburgh', 0.001407507965534656),\n",
       " ('region_Plains', 0.0061410200369012785),\n",
       " ('region_Portland', 0.006020828839912214),\n",
       " ('region_RaleighGreensboro', 0.0031260217369033093),\n",
       " ('region_RichmondNorfolk', 0.005205750176159776),\n",
       " ('region_Roanoke', 0.010430080537432126),\n",
       " ('region_Sacramento', 0.004655284531898731),\n",
       " ('region_SanDiego', 0.02613745701197165),\n",
       " ('region_SanFrancisco', 0.006226663943926146),\n",
       " ('region_Seattle', 0.0014867263414736916),\n",
       " ('region_SouthCarolina', 0.014035679908531643),\n",
       " ('region_SouthCentral', 0.0014102157331357982),\n",
       " ('region_Southeast', 0.0066435181759771315),\n",
       " ('region_Spokane', 0.0032433394349392682),\n",
       " ('region_StLouis', 0.005496266643253783),\n",
       " ('region_Syracuse', 0.0024826675180770197),\n",
       " ('region_Tampa', 0.0024042273426447694),\n",
       " ('region_TotalUS', 0.0058530802645948765),\n",
       " ('region_West', 0.012009116001937773),\n",
       " ('region_WestTexNewMexico', 0.5175611616551051),\n",
       " ('type_conventional', 0.014344806914597785),\n",
       " ('type_organic', 0.005919812621893309),\n",
       " ('month_Apr', 0.010019087106182488),\n",
       " ('month_Aug', 0.007943274647775559),\n",
       " ('month_Dec', 0.008067744569629035),\n",
       " ('month_Feb', 0.00602452122393042),\n",
       " ('month_Jan', 0.005165594102665734),\n",
       " ('month_Jul', 0.005899707147406197),\n",
       " ('month_Jun', 0.008295239024664088),\n",
       " ('month_Mar', 0.026495732398562073),\n",
       " ('month_May', 0.01984197757817972)]"
      ]
     },
     "execution_count": 97,
     "metadata": {},
     "output_type": "execute_result"
    }
   ],
   "source": [
    "list(zip(feature_list, rfr.feature_importances_))"
   ]
  },
  {
   "cell_type": "code",
   "execution_count": null,
   "metadata": {},
   "outputs": [],
   "source": []
  }
 ],
 "metadata": {
  "kernelspec": {
   "display_name": "Python 3",
   "language": "python",
   "name": "python3"
  },
  "language_info": {
   "codemirror_mode": {
    "name": "ipython",
    "version": 3
   },
   "file_extension": ".py",
   "mimetype": "text/x-python",
   "name": "python",
   "nbconvert_exporter": "python",
   "pygments_lexer": "ipython3",
   "version": "3.7.4"
  }
 },
 "nbformat": 4,
 "nbformat_minor": 2
}
