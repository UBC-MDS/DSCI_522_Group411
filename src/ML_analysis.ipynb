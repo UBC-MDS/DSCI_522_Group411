{
 "cells": [
  {
   "cell_type": "code",
   "execution_count": 86,
   "metadata": {},
   "outputs": [
    {
     "data": {
      "text/plain": [
       "RendererRegistry.enable('notebook')"
      ]
     },
     "execution_count": 86,
     "metadata": {},
     "output_type": "execute_result"
    }
   ],
   "source": [
    "import pandas as pd\n",
    "import numpy as np\n",
    "from sklearn.ensemble import RandomForestRegressor\n",
    "from sklearn.preprocessing import OneHotEncoder\n",
    "from sklearn.compose import ColumnTransformer\n",
    "from sklearn.model_selection import RandomizedSearchCV, cross_val_score\n",
    "import altair as alt\n",
    "from sklearn.linear_model import LinearRegression\n",
    "from sklearn.model_selection import train_test_split\n",
    "from pyarrow import feather\n",
    "alt.renderers.enable('notebook')"
   ]
  },
  {
   "cell_type": "code",
   "execution_count": 7,
   "metadata": {},
   "outputs": [
    {
     "data": {
      "text/html": [
       "<div>\n",
       "<style scoped>\n",
       "    .dataframe tbody tr th:only-of-type {\n",
       "        vertical-align: middle;\n",
       "    }\n",
       "\n",
       "    .dataframe tbody tr th {\n",
       "        vertical-align: top;\n",
       "    }\n",
       "\n",
       "    .dataframe thead th {\n",
       "        text-align: right;\n",
       "    }\n",
       "</style>\n",
       "<table border=\"1\" class=\"dataframe\">\n",
       "  <thead>\n",
       "    <tr style=\"text-align: right;\">\n",
       "      <th></th>\n",
       "      <th>X1</th>\n",
       "      <th>date</th>\n",
       "      <th>average_price</th>\n",
       "      <th>total_volume</th>\n",
       "      <th>PLU_4046</th>\n",
       "      <th>PLU_4225</th>\n",
       "      <th>PLU_4770</th>\n",
       "      <th>total_bags</th>\n",
       "      <th>small_bags</th>\n",
       "      <th>large_bags</th>\n",
       "      <th>xlarge_bags</th>\n",
       "      <th>type</th>\n",
       "      <th>year</th>\n",
       "      <th>region</th>\n",
       "      <th>month</th>\n",
       "      <th>year_month</th>\n",
       "    </tr>\n",
       "  </thead>\n",
       "  <tbody>\n",
       "    <tr>\n",
       "      <td>0</td>\n",
       "      <td>0.0</td>\n",
       "      <td>2015-12-27</td>\n",
       "      <td>1.33</td>\n",
       "      <td>64236.62</td>\n",
       "      <td>1036.74</td>\n",
       "      <td>54454.85</td>\n",
       "      <td>48.16</td>\n",
       "      <td>8696.87</td>\n",
       "      <td>8603.62</td>\n",
       "      <td>93.25</td>\n",
       "      <td>0.0</td>\n",
       "      <td>conventional</td>\n",
       "      <td>2015.0</td>\n",
       "      <td>Albany</td>\n",
       "      <td>Dec</td>\n",
       "      <td>2015-12</td>\n",
       "    </tr>\n",
       "    <tr>\n",
       "      <td>1</td>\n",
       "      <td>1.0</td>\n",
       "      <td>2015-12-20</td>\n",
       "      <td>1.35</td>\n",
       "      <td>54876.98</td>\n",
       "      <td>674.28</td>\n",
       "      <td>44638.81</td>\n",
       "      <td>58.33</td>\n",
       "      <td>9505.56</td>\n",
       "      <td>9408.07</td>\n",
       "      <td>97.49</td>\n",
       "      <td>0.0</td>\n",
       "      <td>conventional</td>\n",
       "      <td>2015.0</td>\n",
       "      <td>Albany</td>\n",
       "      <td>Dec</td>\n",
       "      <td>2015-12</td>\n",
       "    </tr>\n",
       "    <tr>\n",
       "      <td>2</td>\n",
       "      <td>2.0</td>\n",
       "      <td>2015-12-13</td>\n",
       "      <td>0.93</td>\n",
       "      <td>118220.22</td>\n",
       "      <td>794.70</td>\n",
       "      <td>109149.67</td>\n",
       "      <td>130.50</td>\n",
       "      <td>8145.35</td>\n",
       "      <td>8042.21</td>\n",
       "      <td>103.14</td>\n",
       "      <td>0.0</td>\n",
       "      <td>conventional</td>\n",
       "      <td>2015.0</td>\n",
       "      <td>Albany</td>\n",
       "      <td>Dec</td>\n",
       "      <td>2015-12</td>\n",
       "    </tr>\n",
       "    <tr>\n",
       "      <td>3</td>\n",
       "      <td>3.0</td>\n",
       "      <td>2015-12-06</td>\n",
       "      <td>1.08</td>\n",
       "      <td>78992.15</td>\n",
       "      <td>1132.00</td>\n",
       "      <td>71976.41</td>\n",
       "      <td>72.58</td>\n",
       "      <td>5811.16</td>\n",
       "      <td>5677.40</td>\n",
       "      <td>133.76</td>\n",
       "      <td>0.0</td>\n",
       "      <td>conventional</td>\n",
       "      <td>2015.0</td>\n",
       "      <td>Albany</td>\n",
       "      <td>Dec</td>\n",
       "      <td>2015-12</td>\n",
       "    </tr>\n",
       "    <tr>\n",
       "      <td>4</td>\n",
       "      <td>4.0</td>\n",
       "      <td>2015-11-29</td>\n",
       "      <td>1.28</td>\n",
       "      <td>51039.60</td>\n",
       "      <td>941.48</td>\n",
       "      <td>43838.39</td>\n",
       "      <td>75.78</td>\n",
       "      <td>6183.95</td>\n",
       "      <td>5986.26</td>\n",
       "      <td>197.69</td>\n",
       "      <td>0.0</td>\n",
       "      <td>conventional</td>\n",
       "      <td>2015.0</td>\n",
       "      <td>Albany</td>\n",
       "      <td>Nov</td>\n",
       "      <td>2015-11</td>\n",
       "    </tr>\n",
       "  </tbody>\n",
       "</table>\n",
       "</div>"
      ],
      "text/plain": [
       "    X1        date  average_price  total_volume  PLU_4046   PLU_4225  \\\n",
       "0  0.0  2015-12-27           1.33      64236.62   1036.74   54454.85   \n",
       "1  1.0  2015-12-20           1.35      54876.98    674.28   44638.81   \n",
       "2  2.0  2015-12-13           0.93     118220.22    794.70  109149.67   \n",
       "3  3.0  2015-12-06           1.08      78992.15   1132.00   71976.41   \n",
       "4  4.0  2015-11-29           1.28      51039.60    941.48   43838.39   \n",
       "\n",
       "   PLU_4770  total_bags  small_bags  large_bags  xlarge_bags          type  \\\n",
       "0     48.16     8696.87     8603.62       93.25          0.0  conventional   \n",
       "1     58.33     9505.56     9408.07       97.49          0.0  conventional   \n",
       "2    130.50     8145.35     8042.21      103.14          0.0  conventional   \n",
       "3     72.58     5811.16     5677.40      133.76          0.0  conventional   \n",
       "4     75.78     6183.95     5986.26      197.69          0.0  conventional   \n",
       "\n",
       "     year  region month year_month  \n",
       "0  2015.0  Albany   Dec    2015-12  \n",
       "1  2015.0  Albany   Dec    2015-12  \n",
       "2  2015.0  Albany   Dec    2015-12  \n",
       "3  2015.0  Albany   Dec    2015-12  \n",
       "4  2015.0  Albany   Nov    2015-11  "
      ]
     },
     "execution_count": 7,
     "metadata": {},
     "output_type": "execute_result"
    }
   ],
   "source": [
    "# load in feather datasets \n",
    "# training dataset\n",
    "avocado = pd.read_feather(\"../data/train.feather\")\n",
    "avocado.head()\n",
    "# test dataset\n",
    "# avocado_test = pd.read_feather(\"test.feather\")\n",
    "# avocado_test.head()"
   ]
  },
  {
   "cell_type": "code",
   "execution_count": 8,
   "metadata": {},
   "outputs": [
    {
     "data": {
      "text/plain": [
       "Index(['X1', 'date', 'average_price', 'total_volume', 'PLU_4046', 'PLU_4225',\n",
       "       'PLU_4770', 'total_bags', 'small_bags', 'large_bags', 'xlarge_bags',\n",
       "       'type', 'year', 'region', 'month', 'year_month'],\n",
       "      dtype='object')"
      ]
     },
     "execution_count": 8,
     "metadata": {},
     "output_type": "execute_result"
    }
   ],
   "source": [
    "# Which features do we want to keep?\n",
    "avocado.columns\n",
    "# want month, region, type as our features"
   ]
  },
  {
   "cell_type": "code",
   "execution_count": 70,
   "metadata": {},
   "outputs": [],
   "source": [
    "# Split the data into target and features\n",
    "avocado_x = avocado[['region', 'type', 'month']]\n",
    "avocado_y = avocado['average_price']\n",
    "\n",
    "# avocado_test_x = avocado_test[['region', 'type', 'month']]\n",
    "# avocado_test_y = avocado['AveragePrice']\n",
    "\n",
    "# need to convert categorical to numerical using one-hot-encoding\n",
    "categorical_features = ['region', 'type', 'month']\n",
    "\n",
    "preprocessor = ColumnTransformer(transformers=[\n",
    "    ('ohe', OneHotEncoder(), categorical_features)\n",
    "])\n",
    "\n",
    "# applying one hot encoding to the training features\n",
    "avocado_x = preprocessor.fit_transform(avocado_x)\n",
    "\n",
    "# apply the same transformation to the test features (but don't fit!)\n",
    "\n",
    "# avocado_test_x = pd.DataFrame(preprocessor.transform(avocado_test_x),\n",
    "#                              index=avocado_test_x.index,\n",
    "#                              columns=avocado_x.columns)"
   ]
  },
  {
   "cell_type": "code",
   "execution_count": 71,
   "metadata": {},
   "outputs": [
    {
     "data": {
      "text/plain": [
       "RandomForestRegressor(bootstrap=True, ccp_alpha=0.0, criterion='mse',\n",
       "                      max_depth=None, max_features='auto', max_leaf_nodes=None,\n",
       "                      max_samples=None, min_impurity_decrease=0.0,\n",
       "                      min_impurity_split=None, min_samples_leaf=1,\n",
       "                      min_samples_split=2, min_weight_fraction_leaf=0.0,\n",
       "                      n_estimators=100, n_jobs=None, oob_score=False,\n",
       "                      random_state=123, verbose=0, warm_start=False)"
      ]
     },
     "execution_count": 71,
     "metadata": {},
     "output_type": "execute_result"
    }
   ],
   "source": [
    "# fit rfr model\n",
    "rfr = RandomForestRegressor(random_state=123)\n",
    "rfr.fit(avocado_x, avocado_y)"
   ]
  },
  {
   "cell_type": "code",
   "execution_count": 72,
   "metadata": {},
   "outputs": [
    {
     "name": "stdout",
     "output_type": "stream",
     "text": [
      "[-0.95061134  0.15556973  0.52072718 -0.1881055   0.17626009]\n",
      "-0.057231968601601915\n",
      "0.4998188593800734\n"
     ]
    }
   ],
   "source": [
    "fold_accuracies = cross_val_score(estimator=rfr, X=avocado_x, y=avocado_y, cv=5)\n",
    "print(fold_accuracies)\n",
    "print(np.mean(fold_accuracies))\n",
    "print(np.std(fold_accuracies))\n",
    "# the standard deviation is much greater than the mean accuracy, \n",
    "# this is probably not a good model..."
   ]
  },
  {
   "cell_type": "code",
   "execution_count": 82,
   "metadata": {},
   "outputs": [
    {
     "data": {
      "text/plain": [
       "{'n_estimators': 46, 'max_depth': 13}"
      ]
     },
     "execution_count": 82,
     "metadata": {},
     "output_type": "execute_result"
    }
   ],
   "source": [
    "# find optimal hyperparameters\n",
    "\n",
    "rfr_parameters = {'max_depth': range(1, 20),\n",
    "                  'n_estimators': range(1, 100)}\n",
    "\n",
    "random_rfr = RandomizedSearchCV(rfr, rfr_parameters, n_iter=10,\n",
    "             cv=5)\n",
    "\n",
    "random_rfr.fit(avocado_x, avocado_y).best_params_"
   ]
  },
  {
   "cell_type": "code",
   "execution_count": 83,
   "metadata": {},
   "outputs": [],
   "source": [
    "fold_accuracies = cross_val_score(estimator=random_rfr, X=avocado_x, y=avocado_y, cv=5)\n",
    "cv_scores_dict = {'Fold': [1, 2, 3, 4, 5],\n",
    "                  'Negative_Mean_Squared_Error': fold_accuracies}\n",
    "#for i in range(5):\n",
    "#    cv_scores_dict('Fold')[i] = \n",
    "\n",
    "#print(fold_accuracies)\n",
    "#print(np.mean(fold_accuracies))\n",
    "#print(np.std(fold_accuracies))\n",
    "# The standard error is much more reasonable here"
   ]
  },
  {
   "cell_type": "code",
   "execution_count": 47,
   "metadata": {},
   "outputs": [
    {
     "data": {
      "text/html": [
       "<div>\n",
       "<style scoped>\n",
       "    .dataframe tbody tr th:only-of-type {\n",
       "        vertical-align: middle;\n",
       "    }\n",
       "\n",
       "    .dataframe tbody tr th {\n",
       "        vertical-align: top;\n",
       "    }\n",
       "\n",
       "    .dataframe thead th {\n",
       "        text-align: right;\n",
       "    }\n",
       "</style>\n",
       "<table border=\"1\" class=\"dataframe\">\n",
       "  <thead>\n",
       "    <tr style=\"text-align: right;\">\n",
       "      <th></th>\n",
       "      <th>Fold</th>\n",
       "      <th>Negative_Mean_Squared_Error</th>\n",
       "    </tr>\n",
       "  </thead>\n",
       "  <tbody>\n",
       "    <tr>\n",
       "      <td>0</td>\n",
       "      <td>1</td>\n",
       "      <td>-0.063880</td>\n",
       "    </tr>\n",
       "    <tr>\n",
       "      <td>1</td>\n",
       "      <td>2</td>\n",
       "      <td>-0.071218</td>\n",
       "    </tr>\n",
       "    <tr>\n",
       "      <td>2</td>\n",
       "      <td>3</td>\n",
       "      <td>-0.054612</td>\n",
       "    </tr>\n",
       "    <tr>\n",
       "      <td>3</td>\n",
       "      <td>4</td>\n",
       "      <td>-0.133494</td>\n",
       "    </tr>\n",
       "    <tr>\n",
       "      <td>4</td>\n",
       "      <td>5</td>\n",
       "      <td>-0.140485</td>\n",
       "    </tr>\n",
       "  </tbody>\n",
       "</table>\n",
       "</div>"
      ],
      "text/plain": [
       "   Fold  Negative_Mean_Squared_Error\n",
       "0     1                    -0.063880\n",
       "1     2                    -0.071218\n",
       "2     3                    -0.054612\n",
       "3     4                    -0.133494\n",
       "4     5                    -0.140485"
      ]
     },
     "execution_count": 47,
     "metadata": {},
     "output_type": "execute_result"
    }
   ],
   "source": [
    "pd.DataFrame(cv_scores_dict)"
   ]
  },
  {
   "cell_type": "code",
   "execution_count": 73,
   "metadata": {},
   "outputs": [],
   "source": [
    "features = pd.get_dummies(avocado[['region', 'type', 'month']])\n",
    "feature_list = list(features.columns)"
   ]
  },
  {
   "cell_type": "code",
   "execution_count": 91,
   "metadata": {},
   "outputs": [],
   "source": [
    "feature_df = pd.DataFrame({\"feature_names\": feature_list,\n",
    "             \"importance\": random_rfr.best_estimator_.feature_importances_})"
   ]
  },
  {
   "cell_type": "code",
   "execution_count": 100,
   "metadata": {},
   "outputs": [],
   "source": [
    "feature_df.sort_values([\"importance\"], ascending=False, inplace=True)"
   ]
  },
  {
   "cell_type": "code",
   "execution_count": 105,
   "metadata": {},
   "outputs": [],
   "source": [
    "feature_df.reset_index(drop=True, inplace=True)"
   ]
  },
  {
   "cell_type": "code",
   "execution_count": 119,
   "metadata": {},
   "outputs": [
    {
     "data": {
      "text/html": [
       "<div>\n",
       "<style scoped>\n",
       "    .dataframe tbody tr th:only-of-type {\n",
       "        vertical-align: middle;\n",
       "    }\n",
       "\n",
       "    .dataframe tbody tr th {\n",
       "        vertical-align: top;\n",
       "    }\n",
       "\n",
       "    .dataframe thead th {\n",
       "        text-align: right;\n",
       "    }\n",
       "</style>\n",
       "<table border=\"1\" class=\"dataframe\">\n",
       "  <thead>\n",
       "    <tr style=\"text-align: right;\">\n",
       "      <th></th>\n",
       "      <th>feature_names</th>\n",
       "      <th>importance</th>\n",
       "    </tr>\n",
       "  </thead>\n",
       "  <tbody>\n",
       "    <tr>\n",
       "      <td>0</td>\n",
       "      <td>type_organic</td>\n",
       "      <td>0.448443</td>\n",
       "    </tr>\n",
       "    <tr>\n",
       "      <td>1</td>\n",
       "      <td>type_conventional</td>\n",
       "      <td>0.195948</td>\n",
       "    </tr>\n",
       "    <tr>\n",
       "      <td>2</td>\n",
       "      <td>region_HartfordSpringfield</td>\n",
       "      <td>0.038948</td>\n",
       "    </tr>\n",
       "    <tr>\n",
       "      <td>3</td>\n",
       "      <td>region_SanFrancisco</td>\n",
       "      <td>0.036253</td>\n",
       "    </tr>\n",
       "    <tr>\n",
       "      <td>4</td>\n",
       "      <td>month_Nov</td>\n",
       "      <td>0.032453</td>\n",
       "    </tr>\n",
       "    <tr>\n",
       "      <td>5</td>\n",
       "      <td>month_Dec</td>\n",
       "      <td>0.025815</td>\n",
       "    </tr>\n",
       "    <tr>\n",
       "      <td>6</td>\n",
       "      <td>region_NewYork</td>\n",
       "      <td>0.022404</td>\n",
       "    </tr>\n",
       "    <tr>\n",
       "      <td>7</td>\n",
       "      <td>region_Houston</td>\n",
       "      <td>0.021718</td>\n",
       "    </tr>\n",
       "    <tr>\n",
       "      <td>8</td>\n",
       "      <td>region_PhoenixTucson</td>\n",
       "      <td>0.019549</td>\n",
       "    </tr>\n",
       "    <tr>\n",
       "      <td>9</td>\n",
       "      <td>month_Feb</td>\n",
       "      <td>0.016290</td>\n",
       "    </tr>\n",
       "  </tbody>\n",
       "</table>\n",
       "</div>"
      ],
      "text/plain": [
       "                feature_names  importance\n",
       "0                type_organic    0.448443\n",
       "1           type_conventional    0.195948\n",
       "2  region_HartfordSpringfield    0.038948\n",
       "3         region_SanFrancisco    0.036253\n",
       "4                   month_Nov    0.032453\n",
       "5                   month_Dec    0.025815\n",
       "6              region_NewYork    0.022404\n",
       "7              region_Houston    0.021718\n",
       "8        region_PhoenixTucson    0.019549\n",
       "9                   month_Feb    0.016290"
      ]
     },
     "execution_count": 119,
     "metadata": {},
     "output_type": "execute_result"
    }
   ],
   "source": [
    "feature_df[:10]"
   ]
  },
  {
   "cell_type": "code",
   "execution_count": 127,
   "metadata": {},
   "outputs": [
    {
     "data": {
      "application/javascript": [
       "const spec = {\"config\": {\"view\": {\"width\": 400, \"height\": 300}, \"mark\": {\"tooltip\": null}}, \"data\": {\"name\": \"data-2aaac96c6c0bce89fd26e8d0f2216dfc\"}, \"mark\": {\"type\": \"bar\", \"color\": \"red\", \"opacity\": 0.6}, \"encoding\": {\"x\": {\"type\": \"nominal\", \"field\": \"feature_names\", \"sort\": {\"field\": \"importance:Q\"}, \"title\": \"Features\"}, \"y\": {\"type\": \"quantitative\", \"field\": \"importance\", \"title\": \"Feature Importance\"}}, \"title\": \"10 Most Important Predictors of Avocado Price\", \"width\": 400, \"$schema\": \"https://vega.github.io/schema/vega-lite/v3.4.0.json\", \"datasets\": {\"data-2aaac96c6c0bce89fd26e8d0f2216dfc\": [{\"feature_names\": \"type_organic\", \"importance\": 0.4484427419582377}, {\"feature_names\": \"type_conventional\", \"importance\": 0.1959484961406296}, {\"feature_names\": \"region_HartfordSpringfield\", \"importance\": 0.03894835961016452}, {\"feature_names\": \"region_SanFrancisco\", \"importance\": 0.03625315311002821}, {\"feature_names\": \"month_Nov\", \"importance\": 0.0324532708583371}, {\"feature_names\": \"month_Dec\", \"importance\": 0.025815407653282562}, {\"feature_names\": \"region_NewYork\", \"importance\": 0.022404086782152333}, {\"feature_names\": \"region_Houston\", \"importance\": 0.02171752857259626}, {\"feature_names\": \"region_PhoenixTucson\", \"importance\": 0.019548911383622296}, {\"feature_names\": \"month_Feb\", \"importance\": 0.016290411676967004}]}};\n",
       "const opt = {};\n",
       "const type = \"vega-lite\";\n",
       "const id = \"b30ac219-5f6e-4de8-a4b3-9d9dcb105e84\";\n",
       "\n",
       "const output_area = this;\n",
       "\n",
       "require([\"nbextensions/jupyter-vega/index\"], function(vega) {\n",
       "  const target = document.createElement(\"div\");\n",
       "  target.id = id;\n",
       "  target.className = \"vega-embed\";\n",
       "\n",
       "  const style = document.createElement(\"style\");\n",
       "  style.textContent = [\n",
       "    \".vega-embed .error p {\",\n",
       "    \"  color: firebrick;\",\n",
       "    \"  font-size: 14px;\",\n",
       "    \"}\",\n",
       "  ].join(\"\\\\n\");\n",
       "\n",
       "  // element is a jQuery wrapped DOM element inside the output area\n",
       "  // see http://ipython.readthedocs.io/en/stable/api/generated/\\\n",
       "  // IPython.display.html#IPython.display.Javascript.__init__\n",
       "  element[0].appendChild(target);\n",
       "  element[0].appendChild(style);\n",
       "\n",
       "  vega.render(\"#\" + id, spec, type, opt, output_area);\n",
       "}, function (err) {\n",
       "  if (err.requireType !== \"scripterror\") {\n",
       "    throw(err);\n",
       "  }\n",
       "});\n"
      ],
      "text/plain": [
       "<vega.vegalite.VegaLite at 0x1a2c411110>"
      ]
     },
     "metadata": {
      "jupyter-vega": "#b30ac219-5f6e-4de8-a4b3-9d9dcb105e84"
     },
     "output_type": "display_data"
    },
    {
     "data": {
      "text/plain": []
     },
     "execution_count": 127,
     "metadata": {},
     "output_type": "execute_result"
    },
    {
     "data": {
      "image/png": "[encoded data removed]"
     },
     "metadata": {
      "jupyter-vega": "#b30ac219-5f6e-4de8-a4b3-9d9dcb105e84"
     },
     "output_type": "display_data"
    }
   ],
   "source": [
    "alt.Chart(feature_df[:10]).mark_bar(color=\"red\", opacity=0.6).encode(\n",
    "    x= alt.X(\"feature_names:N\",\n",
    "             sort=alt.SortField(field='importance:Q'),\n",
    "             title=\"Features\"),\n",
    "    y = alt.Y(\"importance:Q\", title=\"Feature Importance\")\n",
    ").properties(title=\"10 Most Important Predictors of Avocado Price\",\n",
    "             width=400)"
   ]
  },
  {
   "cell_type": "code",
   "execution_count": 39,
   "metadata": {},
   "outputs": [
    {
     "data": {
      "text/plain": [
       "0.7098694373793282"
      ]
     },
     "execution_count": 39,
     "metadata": {},
     "output_type": "execute_result"
    }
   ],
   "source": [
    "rfr.score(avocado_x, avocado_y)"
   ]
  },
  {
   "cell_type": "code",
   "execution_count": 25,
   "metadata": {},
   "outputs": [
    {
     "data": {
      "text/plain": [
       "LinearRegression(copy_X=True, fit_intercept=True, n_jobs=None, normalize=False)"
      ]
     },
     "execution_count": 25,
     "metadata": {},
     "output_type": "execute_result"
    }
   ],
   "source": [
    "lr = LinearRegression()\n",
    "lr.fit(avocado_x, avocado_y)"
   ]
  },
  {
   "cell_type": "code",
   "execution_count": 26,
   "metadata": {},
   "outputs": [
    {
     "data": {
      "text/plain": [
       "0.6093976419611092"
      ]
     },
     "execution_count": 26,
     "metadata": {},
     "output_type": "execute_result"
    }
   ],
   "source": [
    "lr.score(avocado_x, avocado_y)"
   ]
  },
  {
   "cell_type": "code",
   "execution_count": 27,
   "metadata": {},
   "outputs": [
    {
     "data": {
      "text/plain": [
       "[('region_Albany', -0.21956689704181856),\n",
       " ('region_Atlanta', -0.02063048139350373),\n",
       " ('region_BaltimoreWashington', -0.2252418053543965),\n",
       " ('region_Boise', -0.03542732401517944),\n",
       " ('region_Boston', -0.04607431124402879),\n",
       " ('region_BuffaloRochester', -0.16470506225733672),\n",
       " ('region_California', 0.06159784503280273),\n",
       " ('region_Charlotte', 5.4598699459447435e-05),\n",
       " ('region_Chicago', -0.35467143646478966),\n",
       " ('region_CincinnatiDayton', -0.3076291833538522),\n",
       " ('region_Columbus', -0.47154125332270175),\n",
       " ('region_DallasFtWorth', -0.33197930758110905),\n",
       " ('region_Denver', -0.27899749448048494),\n",
       " ('region_Detroit', -0.059215353412605545),\n",
       " ('region_GrandRapids', -0.21923596071127344),\n",
       " ('region_GreatLakes', -0.05203421669515846),\n",
       " ('region_HarrisburgScranton', 0.2673703795934898),\n",
       " ('region_HartfordSpringfield', -0.5060012988056523),\n",
       " ('region_Houston', -0.2397526611836631),\n",
       " ('region_Indianapolis', -0.04520831253474802),\n",
       " ('region_Jacksonville', -0.1752177232435257),\n",
       " ('region_LasVegas', -0.33646253170748563),\n",
       " ('region_LosAngeles', -0.2641920043693781),\n",
       " ('region_Louisville', -0.13123323697599215),\n",
       " ('region_MiamiFtLauderdale', -0.15409259705619768),\n",
       " ('region_Midsouth', -0.34078801057792296),\n",
       " ('region_Nashville', -0.2621321634413656),\n",
       " ('region_NewOrleansMobile', 0.1743748596500321),\n",
       " ('region_NewYork', 0.04854142506446322),\n",
       " ('region_Northeast', -0.07775838369603523),\n",
       " ('region_NorthernNewEngland', -0.04078067363080024),\n",
       " ('region_Orlando', 0.0648270761967667),\n",
       " ('region_Philadelphia', -0.34991151525540565),\n",
       " ('region_PhoenixTucson', -0.19739305944519855),\n",
       " ('region_Pittsburgh', -0.12368913479751656),\n",
       " ('region_Plains', -0.24443430099082109),\n",
       " ('region_Portland', 0.005311769542557854),\n",
       " ('region_RaleighGreensboro', -0.2617904171097847),\n",
       " ('region_RichmondNorfolk', -0.3195858191085861),\n",
       " ('region_Roanoke', 0.05470175236996186),\n",
       " ('region_Sacramento', -0.15597091719924341),\n",
       " ('region_SanDiego', 0.24512048554978674),\n",
       " ('region_SanFrancisco', -0.10765300080823166),\n",
       " ('region_Seattle', -0.1532412916888674),\n",
       " ('region_SouthCarolina', -0.45736413224496625),\n",
       " ('region_SouthCentral', -0.15925300607949694),\n",
       " ('region_Southeast', -0.1134375296857713),\n",
       " ('region_Spokane', -0.13235579660676447),\n",
       " ('region_StLouis', -0.04238851534121902),\n",
       " ('region_Syracuse', -0.15181516581728124),\n",
       " ('region_Tampa', -0.24294355945884827),\n",
       " ('region_TotalUS', -0.28516110783952914),\n",
       " ('region_West', -0.2991525617796685),\n",
       " ('region_WestTexNewMexico', 0.49476816816881747),\n",
       " ('type_conventional', 0.14150564130581486),\n",
       " ('type_organic', -0.043907250319354614),\n",
       " ('month_Jan', -0.09466892417971139),\n",
       " ('month_Feb', -0.0616528511653295),\n",
       " ('month_Mar', 0.08347447023673023),\n",
       " ('month_Apr', 0.03072955078153753),\n",
       " ('month_May', -0.04691256969717616),\n",
       " ('month_Jun', -0.024912869536821758),\n",
       " ('month_Jul', 0.0791974380603172),\n",
       " ('month_Aug', 0.20582384804293005),\n",
       " ('month_Sep', 0.19693437201247252)]"
      ]
     },
     "execution_count": 27,
     "metadata": {},
     "output_type": "execute_result"
    }
   ],
   "source": [
    "list(zip(feature_list, lr.coef_))"
   ]
  },
  {
   "cell_type": "code",
   "execution_count": null,
   "metadata": {},
   "outputs": [],
   "source": []
  }
 ],
 "metadata": {
  "kernelspec": {
   "display_name": "Python 3",
   "language": "python",
   "name": "python3"
  },
  "language_info": {
   "codemirror_mode": {
    "name": "ipython",
    "version": 3
   },
   "file_extension": ".py",
   "mimetype": "text/x-python",
   "name": "python",
   "nbconvert_exporter": "python",
   "pygments_lexer": "ipython3",
   "version": "3.7.4"
  }
 },
 "nbformat": 4,
 "nbformat_minor": 2
}
